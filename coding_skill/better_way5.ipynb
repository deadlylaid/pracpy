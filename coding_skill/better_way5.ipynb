{
 "cells": [
  {
   "cell_type": "code",
   "execution_count": 1,
   "metadata": {},
   "outputs": [
    {
     "name": "stdout",
     "output_type": "stream",
     "text": [
      "First four:  ['a', 'b', 'c', 'd']\n",
      "Last four:  ['g', 'h', 'i', 'j']\n",
      "Middle two ['d', 'e', 'f', 'g']\n"
     ]
    }
   ],
   "source": [
    "# 파이썬 시퀀스 슬라이스를 사용하면 최소한의 노력으로 아이템의 부분집합에 접근할 수 있다.\n",
    "# 내장타입의 list, str, bytes가 대표적인 대상이다.\n",
    "a = ['a', 'b', 'c', 'd', 'e', 'f', 'g', 'h', 'i', 'j']\n",
    "print('First four: ', a[:4])\n",
    "print('Last four: ', a[-4:])\n",
    "print('Middle two', a[3:-3])"
   ]
  },
  {
   "cell_type": "code",
   "execution_count": 3,
   "metadata": {},
   "outputs": [
    {
     "name": "stdout",
     "output_type": "stream",
     "text": [
      "['h', 'i', 'j']\n",
      "['a', 'b', 'c', 'd', 'e', 'f', 'g', 'h', 'i']\n"
     ]
    }
   ],
   "source": [
    "# 리스트의 끝을 기준으로 오프셋을 계산하고 싶다면 음수로 슬라이스하는 것이 편하다.\n",
    "print(a[-3:])\n",
    "print(a[:-1])"
   ]
  },
  {
   "cell_type": "code",
   "execution_count": 5,
   "metadata": {},
   "outputs": [
    {
     "name": "stdout",
     "output_type": "stream",
     "text": [
      "Before : ['e', 'f', 'g', 'h', 'i', 'j']\n",
      "After :  ['e', 99, 'g', 'h', 'i', 'j']\n",
      "No change:  ['a', 'b', 'c', 'd', 'e', 'f', 'g', 'h', 'i', 'j']\n"
     ]
    }
   ],
   "source": [
    "# 음수로 슬라이스 할 때, somelist[-0:]로 작성하면\n",
    "# 원본 리스트의 복사본을 만든다.\n",
    "# 참고로 슬라이스해서 나온 리스트는 완전히 다른 새로운 리스트를 하나 더 만드는 것이다.\n",
    "# 그러므로 슬라이스 된 리스트를 아무리 수정해도 원본 리스트는 변하지 않는다.\n",
    "b = a[4:]\n",
    "print('Before :', b)\n",
    "b[1] = 99\n",
    "print('After : ', b)\n",
    "print('No change: ', a)"
   ]
  },
  {
   "cell_type": "code",
   "execution_count": 6,
   "metadata": {},
   "outputs": [
    {
     "name": "stdout",
     "output_type": "stream",
     "text": [
      "Before :  ['a', 'b', 'c', 'd', 'e', 'f', 'g', 'h', 'i', 'j']\n",
      "After :  ['a', 'b', 99, 22, 77, 'h', 'i', 'j']\n"
     ]
    }
   ],
   "source": [
    "# 할당에 슬라이스를 사용하면 원본 리스트에서 지정한 범위를 대체한다.\n",
    "# 원본 리스트는 새로 들어온 값에 맞게 늘어나거나 줄어든다.\n",
    "print('Before : ', a)\n",
    "a[2:7] = [99,22,77]\n",
    "print('After : ', a)"
   ]
  },
  {
   "cell_type": "code",
   "execution_count": 7,
   "metadata": {},
   "outputs": [],
   "source": [
    "# 처음과 끝을 생략하면 원본 리스트를 복사해서 새로 만든다.\n",
    "b = a[:]\n",
    "assert b == a and b is not a"
   ]
  },
  {
   "cell_type": "code",
   "execution_count": 9,
   "metadata": {},
   "outputs": [
    {
     "name": "stdout",
     "output_type": "stream",
     "text": [
      "Before a :  [101, 102, 103]\n",
      "After a :  [101, 102, 103]\n",
      "After b :  [101, 102, 103]\n"
     ]
    }
   ],
   "source": [
    "# 슬라이스에서 시작, 끝을 지정하지 않고 할당할 경우\n",
    "# 전체 내용을 참조 대상의 복사본으로 대체한다.\n",
    "b = a\n",
    "print('Before a : ', a)\n",
    "a[:] = [101, 102, 103]\n",
    "assert a is b\n",
    "print('After a : ', a)\n",
    "print('After b : ', b)"
   ]
  },
  {
   "cell_type": "code",
   "execution_count": null,
   "metadata": {},
   "outputs": [],
   "source": []
  }
 ],
 "metadata": {
  "kernelspec": {
   "display_name": "Python 3",
   "language": "python",
   "name": "python3"
  },
  "language_info": {
   "codemirror_mode": {
    "name": "ipython",
    "version": 3
   },
   "file_extension": ".py",
   "mimetype": "text/x-python",
   "name": "python",
   "nbconvert_exporter": "python",
   "pygments_lexer": "ipython3",
   "version": "3.6.1"
  }
 },
 "nbformat": 4,
 "nbformat_minor": 2
}
