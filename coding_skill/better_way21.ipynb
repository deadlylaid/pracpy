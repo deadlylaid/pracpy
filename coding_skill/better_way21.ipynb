{
 "cells": [
  {
   "cell_type": "code",
   "execution_count": 1,
   "metadata": {},
   "outputs": [
    {
     "name": "stdout",
     "output_type": "stream",
     "text": [
      "inf\n"
     ]
    }
   ],
   "source": [
    "#\n",
    "# 21 키워드 전용 인수로 명료성을 강조하자\n",
    "#\n",
    "# 키워드로 인수를 넘기는 것은 파이썬의 강력한 기능이다.\n",
    "# 예를 들어 어떤 숫자를 다른 숫자로 나눈다고 가정하자.\n",
    "# 때로는 ZeroDivisionError를 무시하고 무한대 값을 반환하고 싶을 때도 있다.\n",
    "# 어떨 때는 OverflowError를 무시하고 0을 반환하고 싶을 때도 있다.\n",
    "def safe_division(number, divisor, ignore_overflow, ignore_zero_division):\n",
    "    try:\n",
    "        number/divisor\n",
    "    except OverflowError:\n",
    "        if ignore_overflow:\n",
    "            return 0\n",
    "        else:\n",
    "            raise\n",
    "            \n",
    "    except ZeroDivisionError:\n",
    "        if ignore_zero_division:\n",
    "            return float('inf')\n",
    "        else:\n",
    "            raise\n",
    "            \n",
    "result = safe_division(1, 0, False, True)\n",
    "print(result)"
   ]
  },
  {
   "cell_type": "code",
   "execution_count": 6,
   "metadata": {},
   "outputs": [],
   "source": [
    "# 하지만 overflow, zerodivision을 제어하는 부분을 혼동할 수 있다는 단점이 있다.\n",
    "# 이를 해결하기 위한 법은 키워드 인수를 이용하는 것이다.\n",
    "def safe_division_b(number, divisor, ignore_overflow=False, ignore_zero_division=False):\n",
    "    try:\n",
    "        number/divisor\n",
    "    except OverflowError:\n",
    "        if ignore_overflow:\n",
    "            return 1\n",
    "        else:\n",
    "            raise\n",
    "            \n",
    "    except ZeroDivisionError:\n",
    "        if ignore_zero_division:\n",
    "            return float('inf')\n",
    "        else:\n",
    "            raise\n",
    "            \n",
    "safe_division_b(1,0, ignore_zero_division=True)\n",
    "safe_division_b(1,10**500, ignore_overflow=True)"
   ]
  },
  {
   "cell_type": "code",
   "execution_count": 7,
   "metadata": {},
   "outputs": [
    {
     "data": {
      "text/plain": [
       "inf"
      ]
     },
     "execution_count": 7,
     "metadata": {},
     "output_type": "execute_result"
    }
   ],
   "source": [
    "# 문제는 이 키워드 인수가 선택적인 동작이라\n",
    "# 함수를 호출하는 쪽의 키워드 인수로 의도를 명확하게 드러내라고 강요할 방법이 없다는 점이다.\n",
    "# 더군다나 이전과 똑같은 방법을 사용할 수 있다.\n",
    "safe_division_b(1,0,False, True)"
   ]
  },
  {
   "cell_type": "code",
   "execution_count": 9,
   "metadata": {},
   "outputs": [],
   "source": [
    "# 이렇듯 복잡한 함수를 작성할 때는 키워드 전용인수로 함수를 저의하는 것이 좋다.\n",
    "# 의도를 명확하게 드러내도록 유도하여, 위치 인수로는 절대 넘길 수 없게 하는 것이 좋다.\n",
    "def safe_division_c(number, divisor, *, ignore_overflow=False, ignore_zero_division=False):\n",
    "    try:\n",
    "        number/divisor\n",
    "    except OverflowError:\n",
    "        if ignore_overflow:\n",
    "            return 0\n",
    "        else:\n",
    "            raise\n",
    "            \n",
    "    except ZeroDivisionError:\n",
    "        if ignore_zero_division:\n",
    "            return float('inf')\n",
    "        else:\n",
    "            raise"
   ]
  },
  {
   "cell_type": "code",
   "execution_count": 10,
   "metadata": {},
   "outputs": [
    {
     "ename": "TypeError",
     "evalue": "safe_division_c() takes 2 positional arguments but 4 were given",
     "output_type": "error",
     "traceback": [
      "\u001b[0;31m---------------------------------------------------------------------------\u001b[0m",
      "\u001b[0;31mTypeError\u001b[0m                                 Traceback (most recent call last)",
      "\u001b[0;32m<ipython-input-10-bbbbc46007fb>\u001b[0m in \u001b[0;36m<module>\u001b[0;34m()\u001b[0m\n\u001b[1;32m      1\u001b[0m \u001b[0;31m# 위치인수로는 작동하지 않는다.\u001b[0m\u001b[0;34m\u001b[0m\u001b[0;34m\u001b[0m\u001b[0m\n\u001b[0;32m----> 2\u001b[0;31m \u001b[0msafe_division_c\u001b[0m\u001b[0;34m(\u001b[0m\u001b[0;36m1\u001b[0m\u001b[0;34m,\u001b[0m\u001b[0;36m0\u001b[0m\u001b[0;34m,\u001b[0m\u001b[0;32mFalse\u001b[0m\u001b[0;34m,\u001b[0m\u001b[0;32mTrue\u001b[0m\u001b[0;34m)\u001b[0m\u001b[0;34m\u001b[0m\u001b[0m\n\u001b[0m",
      "\u001b[0;31mTypeError\u001b[0m: safe_division_c() takes 2 positional arguments but 4 were given"
     ]
    }
   ],
   "source": [
    "# 위치인수로는 작동하지 않는다.\n",
    "safe_division_c(1,0,False,True)"
   ]
  },
  {
   "cell_type": "code",
   "execution_count": 11,
   "metadata": {},
   "outputs": [
    {
     "data": {
      "text/plain": [
       "inf"
      ]
     },
     "execution_count": 11,
     "metadata": {},
     "output_type": "execute_result"
    }
   ],
   "source": [
    "# 키워드 인수로는 정상 작동한다.\n",
    "safe_division_c(1,0, ignore_zero_division=True)"
   ]
  },
  {
   "cell_type": "code",
   "execution_count": 13,
   "metadata": {},
   "outputs": [],
   "source": [
    "try:\n",
    "    safe_division_c(1,0)\n",
    "except ZeroDivisionError:\n",
    "    pass"
   ]
  },
  {
   "cell_type": "code",
   "execution_count": null,
   "metadata": {},
   "outputs": [],
   "source": []
  }
 ],
 "metadata": {
  "kernelspec": {
   "display_name": "Python 3",
   "language": "python",
   "name": "python3"
  },
  "language_info": {
   "codemirror_mode": {
    "name": "ipython",
    "version": 3
   },
   "file_extension": ".py",
   "mimetype": "text/x-python",
   "name": "python",
   "nbconvert_exporter": "python",
   "pygments_lexer": "ipython3",
   "version": "3.6.1"
  }
 },
 "nbformat": 4,
 "nbformat_minor": 2
}
