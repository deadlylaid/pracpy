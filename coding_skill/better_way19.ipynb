{
 "cells": [
  {
   "cell_type": "code",
   "execution_count": 3,
   "metadata": {},
   "outputs": [],
   "source": [
    "#\n",
    "# 키워드 인수로 선택적인 동작을 제공하자\n",
    "#\n",
    "# 대부분의 다른 프로그래밍 언어와 마찬가지로 파이썬에서 함수를 호출할 때 인수를 위치 전달 할 수 있다.\n",
    "def remainder(number, divisor):\n",
    "    return number % divisor\n",
    "\n",
    "assert remainder(20, 7) == 6"
   ]
  },
  {
   "cell_type": "code",
   "execution_count": 4,
   "metadata": {},
   "outputs": [
    {
     "data": {
      "text/plain": [
       "6"
      ]
     },
     "execution_count": 4,
     "metadata": {},
     "output_type": "execute_result"
    }
   ],
   "source": [
    "remainder(20, 7)\n",
    "remainder(20, divisor=7)\n",
    "remainder(number=20, divisor=7)\n",
    "remainder(divisor=7, number=20)"
   ]
  },
  {
   "cell_type": "code",
   "execution_count": 7,
   "metadata": {},
   "outputs": [
    {
     "ename": "TypeError",
     "evalue": "remainder() got multiple values for argument 'number'",
     "output_type": "error",
     "traceback": [
      "\u001b[0;31m---------------------------------------------------------------------------\u001b[0m",
      "\u001b[0;31mTypeError\u001b[0m                                 Traceback (most recent call last)",
      "\u001b[0;32m<ipython-input-7-c1d457426b7b>\u001b[0m in \u001b[0;36m<module>\u001b[0;34m()\u001b[0m\n\u001b[0;32m----> 1\u001b[0;31m \u001b[0mremainder\u001b[0m\u001b[0;34m(\u001b[0m\u001b[0;36m20\u001b[0m\u001b[0;34m,\u001b[0m \u001b[0mnumber\u001b[0m\u001b[0;34m=\u001b[0m\u001b[0;36m7\u001b[0m\u001b[0;34m)\u001b[0m\u001b[0;34m\u001b[0m\u001b[0m\n\u001b[0m",
      "\u001b[0;31mTypeError\u001b[0m: remainder() got multiple values for argument 'number'"
     ]
    }
   ],
   "source": [
    "remainder(20, number=7)"
   ]
  },
  {
   "cell_type": "code",
   "execution_count": 1,
   "metadata": {},
   "outputs": [
    {
     "name": "stdout",
     "output_type": "stream",
     "text": [
      "0.167 kg per second\n"
     ]
    }
   ],
   "source": [
    "# 키워드 인수의 유연성은 세 가지 중요한 이점이 있다.\n",
    "# 1. 해당 함수를 처음 보는 사람이 함수 호출을 좀 더 명확하게 이해할 수 있다.\n",
    "# 2. 기본 값을 정의할 수 있다.\n",
    "# 2.번의 예를 들어 큰 통에 들어가는 유속을 계산하고 싶다고 해보자.\n",
    "# 통의 무게를 잴 수 있다면, 각기 다른 시각에 측정한 두 무게의 차이를 이용해 유속을 알 수 있다.\n",
    "def flow_rate(weight_diff, time_diff):\n",
    "    return weight_diff/time_diff\n",
    "\n",
    "weight_diff = 0.5\n",
    "time_diff = 3\n",
    "flow = flow_rate(weight_diff, time_diff)\n",
    "print('{:.3f} kg per second'.format(flow))"
   ]
  },
  {
   "cell_type": "code",
   "execution_count": 4,
   "metadata": {},
   "outputs": [
    {
     "name": "stdout",
     "output_type": "stream",
     "text": [
      "0.167 kg per second\n",
      "600.000 kg per second\n"
     ]
    }
   ],
   "source": [
    "# 보통 초당 킬로그램 단위로 유속을 알아내곤 한다.\n",
    "# 하지만 센서의 최근 측정 값을 이용해서 시간이나 날짜처럼 더 큰 시간 단위로 계산하는게 좋을 때도 있다.\n",
    "def flow_rate(weight_diff, time_diff, period):\n",
    "    return (weight_diff / time_diff) * period\n",
    "\n",
    "# 문제는 함수를 호출할 때마다, 심지어 초당 유속을 사용하는 일반적인 경우에도 period를 설정해야하는 때가 있다는 것이다.\n",
    "# period = 1일 때에는 굳이 넣을 필요는 없는데 인자가 존재하니 넣지 않으면 TypeError가 나게 될 것이다.\n",
    "def flow_rate(weight_diff, time_diff, period=1):\n",
    "    return (weight_diff/time_diff)*period\n",
    "\n",
    "flow = flow_rate(weight_diff, time_diff)\n",
    "print('{:.3f} kg per second'.format(flow))\n",
    "flow = flow_rate(weight_diff, time_diff, period=3600)\n",
    "print('{:.3f} kg per second'.format(flow))\n"
   ]
  },
  {
   "cell_type": "code",
   "execution_count": 5,
   "metadata": {},
   "outputs": [
    {
     "name": "stdout",
     "output_type": "stream",
     "text": [
      "272.72727272727275\n"
     ]
    }
   ],
   "source": [
    "# 3. 세 번째 이점은 기존의 호출 코드와 호환성을 유지하면서도 함수의 파라미터를 확장할 수 있는 강력한 수단이 된다는 것이다.\n",
    "# 키워드 인수를 사용하면 기존 코드를 손대지 않고도 얼마든지 함수를 확장할 수 있다.\n",
    "# 유속을 원하는 측정 단위로 변환하여 비율 파라미터를 추가해 본다고 가정하자\n",
    "def flow_rate(weight_diff, time_diff, period=1, units_per_kg=2.2):\n",
    "    return ((weight_diff / units_per_kg) / time_diff) * period\n",
    "\n",
    "pounds_per_hour = flow_rate(weight_diff, time_diff, period=3600, units_per_kg=2.2)\n",
    "print(pounds_per_hour)"
   ]
  },
  {
   "cell_type": "code",
   "execution_count": null,
   "metadata": {},
   "outputs": [],
   "source": []
  }
 ],
 "metadata": {
  "kernelspec": {
   "display_name": "Python 3",
   "language": "python",
   "name": "python3"
  },
  "language_info": {
   "codemirror_mode": {
    "name": "ipython",
    "version": 3
   },
   "file_extension": ".py",
   "mimetype": "text/x-python",
   "name": "python",
   "nbconvert_exporter": "python",
   "pygments_lexer": "ipython3",
   "version": "3.6.1"
  }
 },
 "nbformat": 4,
 "nbformat_minor": 2
}
