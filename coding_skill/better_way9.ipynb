{
 "cells": [
  {
   "cell_type": "code",
   "execution_count": 8,
   "metadata": {},
   "outputs": [
    {
     "name": "stdout",
     "output_type": "stream",
     "text": [
      "[3, 75, 171, 122, 208, 5, 6, 3]\n"
     ]
    }
   ],
   "source": [
    "# 리스트 컴프리헨션의 가장 큰 문제점은 데이터 별로 아이템을 하나씩 담아놓은 새 리스트를 만든다는 점이다.\n",
    "# 입력 값이 적을 때는 괜찮지만 클 때는 메모리가 많이들어 프로그램을 망가뜨릴 수 있다.\n",
    "# 예를 들어 파일을 읽고 각 줄에 있는 문자의 개수를 반환해보자.\n",
    "# 이 작업을 리스트 컴프리헨션으로 하면 줄의 길이만큼 메모리가 필요하다.\n",
    "# 파일에 오류가 있거나, 혹은 끊김이 없는 네트워크 소켓일 경우 리스트 컴프리헨션은 좋은 선택이 아니다.\n",
    "# 입력 값이 적을 때의 리스트 컴프리헨션\n",
    "value = [ len(x) for x in open('my_list.txt')]\n",
    "print(value)"
   ]
  },
  {
   "cell_type": "code",
   "execution_count": 9,
   "metadata": {},
   "outputs": [
    {
     "name": "stdout",
     "output_type": "stream",
     "text": [
      "<generator object <genexpr> at 0x106ed9af0>\n"
     ]
    }
   ],
   "source": [
    "# 파이썬은 이러한 문제를 해결하기 위해서 리스트 컴프리헨션과 제너레이터를 일반화 한 제너레이터 표현식을 제공한다.\n",
    "# 제너레이터는 표현식이 실행될 때, 출력시퀀스를 한꺼번에 로딩하지 않는다.\n",
    "# 대신 표현식에서 한 번에 한 아이템을 내주는 이터레이터로 평가된다.\n",
    "it = ( len(x) for x in open('my_list.txt'))\n",
    "print(it)"
   ]
  },
  {
   "cell_type": "code",
   "execution_count": 11,
   "metadata": {},
   "outputs": [
    {
     "name": "stdout",
     "output_type": "stream",
     "text": [
      "75\n"
     ]
    }
   ],
   "source": [
    "print(next(it))"
   ]
  },
  {
   "cell_type": "code",
   "execution_count": 12,
   "metadata": {},
   "outputs": [
    {
     "name": "stdout",
     "output_type": "stream",
     "text": [
      "171\n"
     ]
    }
   ],
   "source": [
    "print(next(it))"
   ]
  },
  {
   "cell_type": "code",
   "execution_count": 13,
   "metadata": {},
   "outputs": [
    {
     "name": "stdout",
     "output_type": "stream",
     "text": [
      "(122, 11.045361017187261)\n"
     ]
    }
   ],
   "source": [
    "# 한 번에 리스트 데이터를 출력하는 것이 아니기 때문에 메모리를 폭발적으로 이용하는 문제를 해결할 수 있다.\n",
    "# 또 하나 강력한 점은 다른 제너레이터 표현식과 함께 사용할 수 있다는 점이다.\n",
    "roots = ((x, x**0.5) for x in it)\n",
    "print(next(roots))"
   ]
  },
  {
   "cell_type": "code",
   "execution_count": 14,
   "metadata": {},
   "outputs": [
    {
     "name": "stdout",
     "output_type": "stream",
     "text": [
      "(208, 14.422205101855956)\n"
     ]
    }
   ],
   "source": [
    "print(next(roots))"
   ]
  },
  {
   "cell_type": "code",
   "execution_count": 15,
   "metadata": {},
   "outputs": [
    {
     "name": "stdout",
     "output_type": "stream",
     "text": [
      "[(5, 2.23606797749979), (6, 2.449489742783178), (3, 1.7320508075688772)]\n"
     ]
    }
   ],
   "source": [
    "roots2 = [(x,x**0.5) for x in it]\n",
    "print(roots2)"
   ]
  },
  {
   "cell_type": "code",
   "execution_count": 16,
   "metadata": {},
   "outputs": [],
   "source": [
    "# 제너레이터는 굉장히 효율적인 도구이다.\n",
    "# 하지만 제너레이터 표현식이 반환한 이터레이터에는 상태가 있으므로 이터레이터를 한번 넘게 쓰지 않도록 주의한다."
   ]
  },
  {
   "cell_type": "code",
   "execution_count": null,
   "metadata": {},
   "outputs": [],
   "source": []
  }
 ],
 "metadata": {
  "kernelspec": {
   "display_name": "Python 3",
   "language": "python",
   "name": "python3"
  },
  "language_info": {
   "codemirror_mode": {
    "name": "ipython",
    "version": 3
   },
   "file_extension": ".py",
   "mimetype": "text/x-python",
   "name": "python",
   "nbconvert_exporter": "python",
   "pygments_lexer": "ipython3",
   "version": "3.6.1"
  }
 },
 "nbformat": 4,
 "nbformat_minor": 2
}
