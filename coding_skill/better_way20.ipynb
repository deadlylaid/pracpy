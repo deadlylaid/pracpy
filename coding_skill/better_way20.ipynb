{
 "cells": [
  {
   "cell_type": "code",
   "execution_count": 5,
   "metadata": {},
   "outputs": [
    {
     "name": "stdout",
     "output_type": "stream",
     "text": [
      "2018-02-13 23:02:06.650025: Hi there\n",
      "2018-02-13 23:02:06.650025: Hi again\n"
     ]
    }
   ],
   "source": [
    "# 동적 기본 인수를 지정하려면 None과 docstring을 사용하자\n",
    "#\n",
    "# 키워드 인수의 기본값으로 비정적 타입을 사용해야 할 때도 있다.\n",
    "# 예를 들어 이벤트 발생 시각까지 포함해서 로깅 메시지를 출력한다고 하자.\n",
    "# 함수가 호출될 때마다 기본 인수를 평가한다고 가정하고 다음과 같이 처리하려 할 것이다.\n",
    "from datetime import datetime\n",
    "from time import sleep\n",
    "def log(message, when=datetime.now()):\n",
    "    print('%s: %s' % (when, message))\n",
    "    \n",
    "log('Hi there')\n",
    "sleep(0.1)\n",
    "log('Hi again')"
   ]
  },
  {
   "cell_type": "code",
   "execution_count": 7,
   "metadata": {},
   "outputs": [
    {
     "name": "stdout",
     "output_type": "stream",
     "text": [
      "2018-02-13 23:09:57.383280 : Hi there!\n",
      "2018-02-13 23:09:57.488981 : Hi again!\n"
     ]
    }
   ],
   "source": [
    "# 예상과 다르게 시간이 똑같이 출력된다.\n",
    "# 기본 인수의 값은 모듈이 로드될 때 한번만 평가되며 보통 프로그램이 시작할 때 일어난다.\n",
    "# 기대하던 데로 작동하게 하고 싶다면, 기본값을 None으로 설정하고 docstring(문서화 문자열)으로 실제 동작을 문서화하는 것이 관례다.\n",
    "# 인수에 None을 사용하고 알맞은 기본값을 할당하면 된다.\n",
    "def log(message, when=None):\n",
    "    \"\"\"Log a message with a tiemstamp.\n",
    "    \n",
    "    Args:\n",
    "        message: Message to print.\n",
    "        when: datetime of when the message occurred.\n",
    "        Defaults to the present time.\n",
    "    \"\"\"\n",
    "    when = datetime.now() if when is None else when\n",
    "    print('%s : %s' %(when, message))\n",
    "    \n",
    "log('Hi there!')\n",
    "sleep(0.1)\n",
    "log('Hi again!')"
   ]
  },
  {
   "cell_type": "code",
   "execution_count": 9,
   "metadata": {},
   "outputs": [
    {
     "name": "stdout",
     "output_type": "stream",
     "text": [
      "Foo: {'stuff': 5, 'meep': 1}\n",
      "Bar: {'stuff': 5, 'meep': 1}\n"
     ]
    }
   ],
   "source": [
    "# 이러한 방식은 인수가 수정 가능할 때 특히 중요하다.\n",
    "# 예를 들어 json 데이터로 인코드된 값을 로드한다고 가정하자.\n",
    "# 데이터 디코딩이 실패하면 기본값으로 빈 딕셔너리를 반환한다고 가정한다.\n",
    "import json\n",
    "\n",
    "def decode(data, default={}):\n",
    "    try:\n",
    "        return json.loads(data)\n",
    "    except ValueError:\n",
    "        return default\n",
    "    \n",
    "foo = decode('bad data')\n",
    "foo['stuff'] = 5\n",
    "bar = decode('also bad')\n",
    "bar['meep'] = 1\n",
    "print('Foo:', foo)\n",
    "print('Bar:', bar)"
   ]
  },
  {
   "cell_type": "code",
   "execution_count": 10,
   "metadata": {},
   "outputs": [],
   "source": [
    "# log 함수와 마찬가지로 딕셔너리 자료형이 모든 호출에서 공유되므로 같은 값만 나오게 된다.\n",
    "# 우리는 각각의 함수 호출마다 다른 딕셔너리를 사용하도록 만들고 싶다.\n",
    "def decode(data, default=None):\n",
    "    \"\"\"Load json data to decode\n",
    "    \n",
    "    Args:\n",
    "        data : json data to decode.\n",
    "        default : Value to return if decoding fails.\n",
    "            Defaults to an empty dictionary.\n",
    "    \"\"\"\n",
    "    if default is None:\n",
    "        default = {}\n",
    "    try:\n",
    "        return json.loads(data)\n",
    "    except ValueError:\n",
    "        return default\n",
    "    "
   ]
  },
  {
   "cell_type": "code",
   "execution_count": 11,
   "metadata": {},
   "outputs": [],
   "source": [
    "foo = decode('bad data')\n",
    "foo['stuff'] = 5"
   ]
  },
  {
   "cell_type": "code",
   "execution_count": 12,
   "metadata": {},
   "outputs": [
    {
     "name": "stdout",
     "output_type": "stream",
     "text": [
      "{'stuff': 5}\n",
      "{'man': 10}\n"
     ]
    }
   ],
   "source": [
    "bar = decode('bad too')\n",
    "bar['man'] = 10\n",
    "print(foo)\n",
    "print(bar)"
   ]
  },
  {
   "cell_type": "code",
   "execution_count": null,
   "metadata": {},
   "outputs": [],
   "source": []
  }
 ],
 "metadata": {
  "kernelspec": {
   "display_name": "Python 3",
   "language": "python",
   "name": "python3"
  },
  "language_info": {
   "codemirror_mode": {
    "name": "ipython",
    "version": 3
   },
   "file_extension": ".py",
   "mimetype": "text/x-python",
   "name": "python",
   "nbconvert_exporter": "python",
   "pygments_lexer": "ipython3",
   "version": "3.6.1"
  }
 },
 "nbformat": 4,
 "nbformat_minor": 2
}
