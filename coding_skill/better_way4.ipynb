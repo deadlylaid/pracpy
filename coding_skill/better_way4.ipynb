{
 "cells": [
  {
   "cell_type": "code",
   "execution_count": 3,
   "metadata": {},
   "outputs": [
    {
     "name": "stdout",
     "output_type": "stream",
     "text": [
      "{'red': ['5'], 'blue': ['0'], 'green': ['']}\n"
     ]
    }
   ],
   "source": [
    "#복잡한 표현식 대신 헬퍼함수를 사용할 것\n",
    "#파이썬이 제공하는 문법으로 많은 로직을 한 줄로 쉽게 작성할 수 있다.\n",
    "\n",
    "#url에서 쿼리 문자열을 디코드해야 한다고 하자.\n",
    "#다음 예에서 각 쿼리 문자열 파라미터는 정수 값을 표현한다.\n",
    "from urllib.parse import parse_qs\n",
    "my_values = parse_qs('red=5&blue=0&green=',\n",
    "                    keep_blank_values=True)\n",
    "print(my_values)"
   ]
  },
  {
   "cell_type": "code",
   "execution_count": 6,
   "metadata": {},
   "outputs": [
    {
     "name": "stdout",
     "output_type": "stream",
     "text": [
      "Red:     : ['5']\n",
      "Green:   : ['']\n",
      "Blue:    : ['0']\n",
      "black:   : None\n"
     ]
    }
   ],
   "source": [
    "# 쿼리 문자열에 따라 값이 여러개 올 수도, 한 개만 있을 수도 있다.\n",
    "# 파라미터만 존재하고 값이 없을 수도, 파라미터 자체가 없는 경우도 있다.\n",
    "# 이런 다양한 상황에서는 딕셔너리 get() 을 이용하여 해결할 수 있다.\n",
    "print('Red:     :', my_values.get('red'))\n",
    "print('Green:   :', my_values.get('green'))\n",
    "print('Blue:    :', my_values.get('blue'))\n",
    "print('black:   :', my_values.get('black'))"
   ]
  },
  {
   "cell_type": "code",
   "execution_count": 25,
   "metadata": {},
   "outputs": [
    {
     "name": "stdout",
     "output_type": "stream",
     "text": [
      "Red:     '5'\n",
      "Green:   0\n",
      "Opacity: 0\n"
     ]
    }
   ],
   "source": [
    "# 파라미터가 없거나 비어있다면 기본값을 0으로 두는 것이 좋다.\n",
    "# 파이썬은 bool 표현식으로 복잡한 로직을 간결하게 표현할 수 있다.\n",
    "\n",
    "# red는 키가 my_values에 있다. 값은 ['5'] 이다.(문자를 포함한 리스트)\n",
    "# 이 값은 bool연산에서 True 취급을 받으므로 표현식의 첫번째 부분을 할당받는다.\n",
    "\n",
    "# green은 키가 my_value에 있다. 값은 [''] 이다.(빈 문자를 포함한 리스트)\n",
    "# 빈 문자는 bool연산에서 False 취급을 받으므로 or 표현식에서 0을 할당 받는다\n",
    "\n",
    "# opacity의 키는 없다. 값도 없다.\n",
    "# 당연히 False이므로 표현식에서 0을 할당 받는다.\n",
    "red = my_values.get('red', [''])[0] or 0\n",
    "green = my_values.get('green',[''])[0] or 0\n",
    "opacity = my_values.get('opacity', [''])[0] or 0\n",
    "print('Red:     %r'%red)\n",
    "print('Green:   %r'%green)\n",
    "print('Opacity: %r'%opacity)"
   ]
  },
  {
   "cell_type": "code",
   "execution_count": 34,
   "metadata": {},
   "outputs": [
    {
     "name": "stdout",
     "output_type": "stream",
     "text": [
      "5\n"
     ]
    }
   ],
   "source": [
    "# 위에서 작성된 코드는 어느정도 간결하게 작성했지만 이 코드는 가독성이 매우 떨어질 뿐더러 활용하기도 나쁘다.\n",
    "# 가령 위의 코드에서 나온 값을 수학 연산에 활용하고 싶다면 int() 를 이용해서 파싱해줘야한다.\n",
    "red = int(my_values.get('red', [''])[0] or 0)\n",
    "print(red)"
   ]
  },
  {
   "cell_type": "code",
   "execution_count": 33,
   "metadata": {},
   "outputs": [],
   "source": [
    "# 위의 코드는 전혀 너무 복잡하다.\n",
    "#이런 복잡한 로직을 여러번 써야한다면 차라리 헬퍼함수를 만드는 편이 좋다.\n",
    "def get_first_int(values, key, default=0):\n",
    "    found = values.get(key, [''])[0]\n",
    "    if found:\n",
    "        return int(found)\n",
    "    else:\n",
    "        return default"
   ]
  },
  {
   "cell_type": "code",
   "execution_count": 32,
   "metadata": {},
   "outputs": [
    {
     "data": {
      "text/plain": [
       "5"
      ]
     },
     "execution_count": 32,
     "metadata": {},
     "output_type": "execute_result"
    }
   ],
   "source": [
    "# 이처럼 복잡한 표현식을 굳이 한 줄짜리로 바꾸겠다고 줄줄이 써내려가는 것보다\n",
    "# 헬퍼함수로 간단하게 만드는 것이 훨씬 좋다.\n",
    "# 숏코드보다 가독성 좋은 코드가 훨씬 수준 높은 코드라고 볼 수 있다.\n",
    "get_first_int(my_values,'red')"
   ]
  },
  {
   "cell_type": "code",
   "execution_count": null,
   "metadata": {},
   "outputs": [],
   "source": []
  }
 ],
 "metadata": {
  "kernelspec": {
   "display_name": "Python 3",
   "language": "python",
   "name": "python3"
  },
  "language_info": {
   "codemirror_mode": {
    "name": "ipython",
    "version": 3
   },
   "file_extension": ".py",
   "mimetype": "text/x-python",
   "name": "python",
   "nbconvert_exporter": "python",
   "pygments_lexer": "ipython3",
   "version": "3.6.1"
  }
 },
 "nbformat": 4,
 "nbformat_minor": 2
}
