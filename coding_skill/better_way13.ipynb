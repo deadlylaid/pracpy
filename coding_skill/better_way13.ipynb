{
 "cells": [
  {
   "cell_type": "code",
   "execution_count": 1,
   "metadata": {},
   "outputs": [],
   "source": [
    "# 파이썬의 예외처리 과정에는 try, execpt, else, finally 총 4가지의 분기가 있다.\n",
    "# 이를 적절하게 사용하면 환상적인 API를 만들 수 있다."
   ]
  },
  {
   "cell_type": "code",
   "execution_count": 3,
   "metadata": {},
   "outputs": [],
   "source": [
    "# finally 블록\n",
    "#\n",
    "# 예외를 전달하고 싶지만, 예외가 발생해도 정리 코드를 실행하고 싶을 때 사용한다.\n",
    "# try/finally 의 일반적인 예 중 하나는 파일 핸들러를 종료하는 작업이다.\n",
    "handle = open('my_list.txt')\n",
    "try:\n",
    "    data= handle.read()\n",
    "finally:\n",
    "    handle.close()\n",
    "    \n",
    "# finally 문은 맨 마지막에 항상 실행되기 때문에 효과적이다."
   ]
  },
  {
   "cell_type": "code",
   "execution_count": 24,
   "metadata": {},
   "outputs": [
    {
     "data": {
      "text/plain": [
       "'foo'"
      ]
     },
     "execution_count": 24,
     "metadata": {},
     "output_type": "execute_result"
    }
   ],
   "source": [
    "# else 블록\n",
    "#\n",
    "# 어떤 예외를 처리해야하고, 어떤 예외를 전달할지 명확하게 하고자 한다면 try/execpt/else 문을 사용하라\n",
    "# try 블록이 예외를 일으키지 않으면 else 블록이 실행된다.\n",
    "# else 블록을 사용하면 try블록의 코드를 최소로 줄이고 가독성을 높일 수 있다.\n",
    "\n",
    "# 문자열에서 json 딕셔너리 데이터로 로드하여 그 안에 든 키의 값을 반환한다고 하자\n",
    "import json\n",
    "\n",
    "def json_load_and_return_key(data, key):\n",
    "    try:\n",
    "        result_dict = json.loads(data)\n",
    "    except ValueError as e:\n",
    "        raise KeyError from e\n",
    "    else:\n",
    "        return result_dict[key]\n",
    "a = '[\"foo\", {\"bar\":[\"baz\", null, 1.0, 2]}]'\n",
    "json_load_and_return_key(a, 0)"
   ]
  },
  {
   "cell_type": "code",
   "execution_count": 25,
   "metadata": {},
   "outputs": [],
   "source": [
    "# data가 올바른 json 이 아니라면, ValueError가 일어난다.\n",
    "# 이 예외는 except 블록에서 발견되어 처리된다.\n",
    "# 하지만 그 외의 에러(예를 들면 key를 찾다가 발생되는 에러)들은 try문 밖에서 일어나는 에러이다.\n",
    "# 그러므로 호출 코드까지 전달된다."
   ]
  },
  {
   "cell_type": "code",
   "execution_count": 39,
   "metadata": {},
   "outputs": [
    {
     "name": "stdout",
     "output_type": "stream",
     "text": [
      "function close\n"
     ]
    },
    {
     "data": {
      "text/plain": [
       "10"
      ]
     },
     "execution_count": 39,
     "metadata": {},
     "output_type": "execute_result"
    }
   ],
   "source": [
    "# try/except/else/finally를 사용해서 함수를 만들보자\n",
    "\n",
    "def get_str_return_int(str_number):\n",
    "    try:\n",
    "        int(str_number)\n",
    "    except ValueError as e:\n",
    "        raise ValueError from e\n",
    "    else:\n",
    "        result = int(str_number)\n",
    "    finally:\n",
    "        print(\"function close\")\n",
    "    return result\n",
    "get_str_return_int('10')"
   ]
  },
  {
   "cell_type": "code",
   "execution_count": null,
   "metadata": {},
   "outputs": [],
   "source": []
  }
 ],
 "metadata": {
  "kernelspec": {
   "display_name": "Python 3",
   "language": "python",
   "name": "python3"
  },
  "language_info": {
   "codemirror_mode": {
    "name": "ipython",
    "version": 3
   },
   "file_extension": ".py",
   "mimetype": "text/x-python",
   "name": "python",
   "nbconvert_exporter": "python",
   "pygments_lexer": "ipython3",
   "version": "3.6.1"
  }
 },
 "nbformat": 4,
 "nbformat_minor": 2
}
