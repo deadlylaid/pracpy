{
 "cells": [
  {
   "cell_type": "code",
   "execution_count": 1,
   "metadata": {},
   "outputs": [
    {
     "data": {
      "text/plain": [
       "5.0"
      ]
     },
     "execution_count": 1,
     "metadata": {},
     "output_type": "execute_result"
    }
   ],
   "source": [
    "# 파이썬 개발을 할 때 유틸리티 함수를 작성할 때 반환 값 None에 특별한 의미를 부여하는 경향이 있다.\n",
    "# 어떤 숫자를 다른 숫자로 나누는 헬퍼 함수를 생각해보자. 0으로 나누는 경우에는 결과가 정의되어 있지 않기 때문에, None을 반환하는 것이 자연스럽다.\n",
    "\n",
    "def divide(number1, number2):\n",
    "    try:\n",
    "        return number1/number2\n",
    "    except ZeroDivisionError:\n",
    "        return None\n",
    "divide(10, 2)"
   ]
  },
  {
   "cell_type": "code",
   "execution_count": 12,
   "metadata": {},
   "outputs": [
    {
     "data": {
      "text/plain": [
       "0.0"
      ]
     },
     "execution_count": 12,
     "metadata": {},
     "output_type": "execute_result"
    }
   ],
   "source": [
    "divide(0, 10)"
   ]
  },
  {
   "cell_type": "code",
   "execution_count": 15,
   "metadata": {},
   "outputs": [],
   "source": [
    "# 이 함수를 사용하는 코드는 반환 값을 다음 처럼 해석한다.\n",
    "result = divide(0, 2)\n",
    "if result is None:\n",
    "    print(\"Invalid inputs\")"
   ]
  },
  {
   "cell_type": "code",
   "execution_count": 25,
   "metadata": {},
   "outputs": [],
   "source": [
    "# 위 처럼 사용할 경우 분자만 0으로 입력하면, result 가 0이 되어버린다.\n",
    "# 0은 조건문에서 False로 인식하므로 None이 아니라 False를 검사하는 상황이 생겨버린다.\n",
    "x, y = 0, 5\n",
    "result = divide(x, y)"
   ]
  },
  {
   "cell_type": "code",
   "execution_count": 18,
   "metadata": {},
   "outputs": [
    {
     "name": "stdout",
     "output_type": "stream",
     "text": [
      "Invalid inputs\n"
     ]
    }
   ],
   "source": [
    "if not result:\n",
    "    print('Invalid inputs')\n",
    "# 0/10은 결과 값이 0으로 나오므로 Invalid input이 아니다."
   ]
  },
  {
   "cell_type": "code",
   "execution_count": 20,
   "metadata": {},
   "outputs": [],
   "source": [
    "# 첫 번째 방법은 반환 값을 두 개 넣고 작업이 성공했는지 실패했는 지를 보여준다.\n",
    "def divide(a,b):\n",
    "    try:\n",
    "        return True , a/b\n",
    "    except ZeroDivisionError:\n",
    "        return False, None"
   ]
  },
  {
   "cell_type": "code",
   "execution_count": 30,
   "metadata": {},
   "outputs": [],
   "source": [
    "success, result = divide(x, y)\n",
    "if not success:\n",
    "    print('Invalid iputs')\n",
    "# 이 방법이 좋을 수도 있지만 호출자가 어디에 False가 들어갈지 None이 들어갈지 모르기 때문에 번거로울 수 있다."
   ]
  },
  {
   "cell_type": "code",
   "execution_count": 32,
   "metadata": {},
   "outputs": [
    {
     "name": "stdout",
     "output_type": "stream",
     "text": [
      "Invalid inputs\n"
     ]
    }
   ],
   "source": [
    "# 그 해결책으로 이렇게 사용할 수 있다.\n",
    "# 하지만 이 방법은 None을 반환하는 것 정도로 나쁜 방법이다.\n",
    "_, result = divide(x, y)\n",
    "if not result:\n",
    "    print('Invalid inputs')"
   ]
  },
  {
   "cell_type": "code",
   "execution_count": 33,
   "metadata": {},
   "outputs": [],
   "source": [
    "# 이런 오류를 줄이기 위해 더 좋은 방법은 None을 호출하지 않도록 하는 것이다.\n",
    "# 대신에 호출하는 쪽에 예외를 일으켜서 호출하는 쪽에서 그 예외를 처리하게 한다.\n",
    "#\n",
    "# 여기서는 호출하는 쪽에 입력값이 잘못됐음을 알리려고 ZeroDivisionError를 ValueError로 변경했다.\n",
    "#\n",
    "def divide(a,b):\n",
    "    try:\n",
    "        return a/b\n",
    "    except ZeroDivisionError as e:\n",
    "        raise ValueError('Invaid inputs') from e"
   ]
  },
  {
   "cell_type": "code",
   "execution_count": 36,
   "metadata": {},
   "outputs": [
    {
     "name": "stdout",
     "output_type": "stream",
     "text": [
      "Result is 2.5\n"
     ]
    }
   ],
   "source": [
    "# 이제 호출하는 쪽에서는 잘못된 입력에 대한 예외를 처리해야 한다.\n",
    "# 함수에서 0으로 나누면 ValueError을 표출하므로 호출할 때 ValueError에 대한 예외를 처리해 주어야한다.\n",
    "x, y = 5, 2\n",
    "try:\n",
    "    result = divide(x,y)\n",
    "except ValueError:\n",
    "    print('Invalid inputs')\n",
    "else:\n",
    "    print('Result is {}'.format(result))"
   ]
  },
  {
   "cell_type": "code",
   "execution_count": null,
   "metadata": {},
   "outputs": [],
   "source": []
  }
 ],
 "metadata": {
  "kernelspec": {
   "display_name": "Python 3",
   "language": "python",
   "name": "python3"
  },
  "language_info": {
   "codemirror_mode": {
    "name": "ipython",
    "version": 3
   },
   "file_extension": ".py",
   "mimetype": "text/x-python",
   "name": "python",
   "nbconvert_exporter": "python",
   "pygments_lexer": "ipython3",
   "version": "3.6.1"
  }
 },
 "nbformat": 4,
 "nbformat_minor": 2
}
