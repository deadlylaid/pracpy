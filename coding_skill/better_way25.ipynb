{
 "cells": [
  {
   "cell_type": "code",
   "execution_count": 1,
   "metadata": {},
   "outputs": [],
   "source": [
    "#\n",
    "# super로 부모 클래스를 초기화 해라\n",
    "#\n",
    "\n",
    "# 기존에는 자식클래스에서 부모 클래스의 __init__ 메소드를 직접 호출하는 방법으로 부모 클래스를 초기화 했다.\n",
    "class MyBaseClass:\n",
    "    def __init__(self, value):\n",
    "        self.value = value\n",
    "    \n",
    "class MyChildClass(MyBaseClass):\n",
    "    def __init__(self):\n",
    "        MyBaseClass.__init__(self, 5)"
   ]
  },
  {
   "cell_type": "code",
   "execution_count": 2,
   "metadata": {},
   "outputs": [],
   "source": [
    "# 이 방법은 간단한 모듈에서 작동하지만\n",
    "# 조금만 복잡해져도 제대로 동작하지 못한다.\n",
    "\n",
    "# 클래스가 다중 상속(보통 다중상속은 사용해선 안되지만)의 영향 때문에,\n",
    "# 슈퍼클래스의 __init__ 메소드를 직접 호출하는 방법이 문제를 일으킬 수 있다.\n",
    "\n",
    "# 한 가지 문제는 __init__의 호출 순서가 명시되어 있지 않다는 점이다.\n",
    "# 예를 들어 인스턴스의 value 필드로 연산을 수행하는 부모클래스를 두 개 정의해보자\n",
    "\n",
    "class TimeTwo:\n",
    "    def __init__(self):\n",
    "        self.value *= 2\n",
    "        \n",
    "class PlusFive:\n",
    "    def __init__(self):\n",
    "        self.value += 5"
   ]
  },
  {
   "cell_type": "code",
   "execution_count": 3,
   "metadata": {},
   "outputs": [],
   "source": [
    "# 그러고 나서 위의 2개의 클래스들을 상속받는 서브클래스를 만든다.\n",
    "\n",
    "class OneWay(MyBaseClass, TimeTwo, PlusFive):\n",
    "    def __init__(self, value):\n",
    "        MyBaseClass.__init__(self, value)\n",
    "        TimeTwo.__init__(self)\n",
    "        PlusFive.__init__(self)"
   ]
  },
  {
   "cell_type": "code",
   "execution_count": 4,
   "metadata": {},
   "outputs": [
    {
     "name": "stdout",
     "output_type": "stream",
     "text": [
      "15\n"
     ]
    }
   ],
   "source": [
    "# 인스턴스를 만들어서 value를 출력해보자\n",
    "foo = OneWay(5)\n",
    "print(foo.value)"
   ]
  },
  {
   "cell_type": "code",
   "execution_count": 5,
   "metadata": {},
   "outputs": [],
   "source": [
    "# 예상했던 값이 나왔다.\n",
    "# MyBaseClass 에서 value = 5 가 정의되고\n",
    "# TimeTwo 에서 *2를 통해 10이 된다.\n",
    "# PlusFive를 통해 +5가 되고 결국 15가 출력된다."
   ]
  },
  {
   "cell_type": "code",
   "execution_count": 10,
   "metadata": {},
   "outputs": [
    {
     "name": "stdout",
     "output_type": "stream",
     "text": [
      "15\n"
     ]
    }
   ],
   "source": [
    "# 다음은 다른 순서로 정의한 클래스다\n",
    "class AnotherWay(MyBaseClass, PlusFive, TimeTwo):\n",
    "    def __init__(self, value):\n",
    "        MyBaseClass.__init__(self, value)\n",
    "        TimeTwo.__init__(self)\n",
    "        PlusFive.__init__(self)\n",
    "\n",
    "boo = AnotherWay(5)\n",
    "print(boo.value)"
   ]
  },
  {
   "cell_type": "code",
   "execution_count": 11,
   "metadata": {},
   "outputs": [],
   "source": [
    "# 하지만 위 클래스는 순서에 맞게 출력되지 않는다.\n",
    "# 본래 예상대로라면, 5를 먼저 더하고 나서 *2를 해서\n",
    "# 20이 나와야한다는 생각이 든다."
   ]
  },
  {
   "cell_type": "code",
   "execution_count": 13,
   "metadata": {},
   "outputs": [],
   "source": [
    "# 이러한 문제는 다이아몬드 상속이다.\n",
    "# 다이아몬드 상속은 어떤 특정 클래스가\n",
    "# 동일한 부모클래스를 상속받는 두 개의 클래스를 동시에 상속받을 때 발생한다.\n",
    "\n",
    "# 동일한 부모클래스의 __init__을 여러번 호출하기 때문에 예상치 못한 동작을 일으킨다.\n",
    "# 예를 들어 MyBaseClass를 상속받는 두 개의 서브클래스를 정의해보자\n",
    "\n",
    "class TimesFive(MyBaseClass):\n",
    "    def __init__(self, value):\n",
    "        MyBaseClass.__init__(self, value)\n",
    "        self.value *= 5\n",
    "        \n",
    "\n",
    "class PlusTwo(MyBaseClass):\n",
    "    def __init__(self, value):\n",
    "        MyBaseClass.__init__(self, value)\n",
    "        self.value += 2"
   ]
  },
  {
   "cell_type": "code",
   "execution_count": 14,
   "metadata": {},
   "outputs": [
    {
     "name": "stdout",
     "output_type": "stream",
     "text": [
      "(5x5)+2 라서 27이 나와야하는데 현실은  7\n"
     ]
    }
   ],
   "source": [
    "# 다음으로 두 클래스에서 모두 상속받는 자식 클래스를 정의하여\n",
    "# MyBaseClass를 다이아몬드 꼭대기로 만든다.\n",
    "class ThisWay(TimesFive, PlusTwo):\n",
    "    def __init__(self, value):\n",
    "        TimesFive.__init__(self, value) # 여기서 25로 만들지만\n",
    "        PlusTwo.__init__(self, value) # 여기서 MyBaseClass.__init__을 호출하면서 다시 5로 리셋된다.\n",
    "\n",
    "foo = ThisWay(5)\n",
    "print('(5x5)+2 라서 27이 나와야하는데 현실은 ', foo.value)"
   ]
  },
  {
   "cell_type": "code",
   "execution_count": 17,
   "metadata": {},
   "outputs": [],
   "source": [
    "# 27이 나와야할 것 같지만, 두 번째 부모 클래스의 생성자 PlusTwo.__init__을 호출 하는 코드가 있어서\n",
    "# MyBaseClass.__init__가 두 번째 호출될 때, 25에서 5로 리셋되어버린다.\n",
    "\n",
    "# python > 3 에서 super를 인수 없이 호출하면, __class__와 self를 인수로 넘겨서 호출한 것으로 처리해서 문제를 해결한다.\n",
    "class SuperFive(MyBaseClass):\n",
    "    def __init__(self, value):\n",
    "        super(__class__, self).__init__(value)\n",
    "        self.value *= 5\n",
    "        \n",
    "class SuperTwo(MyBaseClass):\n",
    "    def __init__(self, value):\n",
    "        super().__init__(value)\n",
    "        self.value += 2\n",
    "        \n",
    "class Result(SuperTwo, SuperFive):\n",
    "    def __init__(self, value):\n",
    "        super().__init__(value)"
   ]
  },
  {
   "cell_type": "code",
   "execution_count": 18,
   "metadata": {},
   "outputs": [
    {
     "name": "stdout",
     "output_type": "stream",
     "text": [
      "27\n"
     ]
    }
   ],
   "source": [
    "moo = Result(5)\n",
    "print(moo.value)"
   ]
  },
  {
   "cell_type": "code",
   "execution_count": 21,
   "metadata": {},
   "outputs": [
    {
     "name": "stdout",
     "output_type": "stream",
     "text": [
      "[<class '__main__.Result'>, <class '__main__.SuperTwo'>, <class '__main__.SuperFive'>, <class '__main__.MyBaseClass'>, <class 'object'>]\n"
     ]
    }
   ],
   "source": [
    "print(Result.mro())"
   ]
  },
  {
   "cell_type": "code",
   "execution_count": null,
   "metadata": {},
   "outputs": [],
   "source": [
    "# 인자로 넣어주는 순서에 따라 연산 순서가 변하는데\n",
    "# mro()에서 보면 알수 있듯, MyBaseClass부터 차례대로 계산된다.\n",
    "# 5 -> 5*5 -> (5*5)+2\n",
    "# 27이 결과로 산출된다."
   ]
  }
 ],
 "metadata": {
  "kernelspec": {
   "display_name": "Python 3",
   "language": "python",
   "name": "python3"
  },
  "language_info": {
   "codemirror_mode": {
    "name": "ipython",
    "version": 3
   },
   "file_extension": ".py",
   "mimetype": "text/x-python",
   "name": "python",
   "nbconvert_exporter": "python",
   "pygments_lexer": "ipython3",
   "version": "3.6.1"
  }
 },
 "nbformat": 4,
 "nbformat_minor": 2
}
