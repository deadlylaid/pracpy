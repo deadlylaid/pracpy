{
 "cells": [
  {
   "cell_type": "code",
   "execution_count": 4,
   "metadata": {},
   "outputs": [
    {
     "name": "stdout",
     "output_type": "stream",
     "text": [
      "hhhhhhhhhade\n"
     ]
    }
   ],
   "source": [
    "# 두 개의 리스트를 병렬로 수행하려면, 소스 리스트 길이만큼 순회한다.\n",
    "names = ['jade', 'madeeee', 'hhhhhhhhhade']\n",
    "letter = [ len(x) for x in names ]\n",
    "\n",
    "longest_name = None\n",
    "max_letter = 0\n",
    "\n",
    "for i in range(len(names)):\n",
    "    count = letter[i]\n",
    "    if count > max_letter:\n",
    "        longest_name = names[i]\n",
    "        max_letter = count\n",
    "print(longest_name)"
   ]
  },
  {
   "cell_type": "code",
   "execution_count": 7,
   "metadata": {},
   "outputs": [
    {
     "name": "stdout",
     "output_type": "stream",
     "text": [
      "hhhhhhhhhade\n"
     ]
    }
   ],
   "source": [
    "# 이 루프문은 별로 보기 좋지 않다.\n",
    "# 인덱스로 접근하는 방법은 코드를 읽기 어려워진다.\n",
    "# 물론 enumerate를 이용하여 개선을 할 수 있지만 여전히 복잡하다.\n",
    "max_letter = 0\n",
    "name=None\n",
    "for index, value in enumerate(letter):\n",
    "    if value > max_letter:\n",
    "        max_letter = value\n",
    "        name = names[index]\n",
    "print(name)"
   ]
  },
  {
   "cell_type": "code",
   "execution_count": 9,
   "metadata": {},
   "outputs": [
    {
     "name": "stdout",
     "output_type": "stream",
     "text": [
      "hhhhhhhhhade\n"
     ]
    }
   ],
   "source": [
    "# 이런 문제를 해결하기 위해서 pyhton은 내장함수 zip을 제공한다.\n",
    "# zip은 지연 제너레이터로 두 개 이상의 이터레이터를 감싼다.\n",
    "# zip 제너레이터는 각 이터레이터로부터 다음 값을 담은 튜플을 가져온다.\n",
    "longest_name = None\n",
    "max_letter = 0\n",
    "for name, count in zip(names, letter):\n",
    "    if count > max_letter:\n",
    "        longest_name = name\n",
    "        max_letter = count\n",
    "print(longest_name)"
   ]
  },
  {
   "cell_type": "code",
   "execution_count": 10,
   "metadata": {},
   "outputs": [
    {
     "name": "stdout",
     "output_type": "stream",
     "text": [
      "jade\n",
      "madeeee\n",
      "hhhhhhhhhade\n"
     ]
    }
   ],
   "source": [
    "# zip의 문제점은 입력되는 두 개의 이터레이터의 길이가 다르면 이상하게 작동한다는 것이다.\n",
    "# 예를 들어 names에 새로운 이름인 'jenkins'를 추가했지만, letter에는 아무것도 추가하지 않았다고 생각해보자\n",
    "names.append('jenkins')\n",
    "for name, count in zip(names, letter):\n",
    "    print(name)"
   ]
  },
  {
   "cell_type": "code",
   "execution_count": 11,
   "metadata": {},
   "outputs": [],
   "source": [
    "# 이렇게 한 쪽의 길이가 짧은 쪽에 맞춰서 출력하기 때문에 마지막 jenkins는 나오지 않는다.\n",
    "# 만약 zip을 사용하는데 입력될 이터레이터의 길이가 같다는 확신이 없다면, itertools.zip_longest를 사용해보자\n",
    "# itertools.zip_longest는 better_way46에 있다."
   ]
  },
  {
   "cell_type": "code",
   "execution_count": 13,
   "metadata": {},
   "outputs": [
    {
     "name": "stdout",
     "output_type": "stream",
     "text": [
      "messi // right_wing\n",
      "ronaldo // left_wing\n",
      "lewandowski // center_forward\n",
      "benzema // center_forward\n",
      "suarez // midfielder\n"
     ]
    }
   ],
   "source": [
    "# 개인 연습\n",
    "names = [ 'messi', 'ronaldo', 'lewandowski', 'benzema', 'suarez', 'alcantara' ]\n",
    "positions = [ 'right_wing', 'left_wing', 'center_forward', 'center_forward', 'midfielder' ]\n",
    "for name, position in zip(names, positions):\n",
    "    print(\"{} // {}\".format(name, position))"
   ]
  },
  {
   "cell_type": "code",
   "execution_count": null,
   "metadata": {},
   "outputs": [],
   "source": []
  }
 ],
 "metadata": {
  "kernelspec": {
   "display_name": "Python 3",
   "language": "python",
   "name": "python3"
  },
  "language_info": {
   "codemirror_mode": {
    "name": "ipython",
    "version": 3
   },
   "file_extension": ".py",
   "mimetype": "text/x-python",
   "name": "python",
   "nbconvert_exporter": "python",
   "pygments_lexer": "ipython3",
   "version": "3.6.1"
  }
 },
 "nbformat": 4,
 "nbformat_minor": 2
}
