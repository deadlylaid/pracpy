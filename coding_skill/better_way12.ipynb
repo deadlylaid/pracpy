{
 "cells": [
  {
   "cell_type": "code",
   "execution_count": 1,
   "metadata": {},
   "outputs": [
    {
     "name": "stdout",
     "output_type": "stream",
     "text": [
      "Loop 0\n",
      "Loop 1\n",
      "Loop 2\n",
      "Loop 3\n",
      "Loop 4\n",
      "Loop 5\n",
      "Loop 6\n",
      "Loop 7\n",
      "Loop 8\n",
      "Loop 9\n",
      "Else Block!\n"
     ]
    }
   ],
   "source": [
    "# python에서는 루프 블록 바로 다음에 else를 사용할 수 있다.\n",
    "for i in range(10):\n",
    "    print('Loop {}'.format(i))\n",
    "else:\n",
    "    print('Else Block!')"
   ]
  },
  {
   "cell_type": "code",
   "execution_count": 6,
   "metadata": {},
   "outputs": [
    {
     "name": "stdout",
     "output_type": "stream",
     "text": [
      "Loop 0\n",
      "Loop 1\n"
     ]
    }
   ],
   "source": [
    "# 실행되자 마자 else문이 실행되는데 이것을 보면 else보단 and가 어울려보이기도 한다.\n",
    "# if/else 문에서 'else는 이전 블록이 실행되지 않으면 이 블록이 실행된다' 는 뜻이다.\n",
    "# try/except문에서 except도 마찬가지로 '이전 블록에서 실패하면 이 블록이 실행된다'는 뜻이다.\n",
    "# try/except/else 의 'else'역시 '이전 블록에서 실패하지 않으면 실행된다'는 뜻이다.\n",
    "# try/finaly 는 항상 가장 마지막에 finally를 실행하라 라는 뜻이다.\n",
    "\n",
    "# break를 걸면 else를 건너뛴다.\n",
    "for i in range(13):\n",
    "    print('Loop {}'.format(i))\n",
    "    if i == 1:\n",
    "        break\n",
    "else:\n",
    "    print('Else block')"
   ]
  },
  {
   "cell_type": "code",
   "execution_count": 3,
   "metadata": {},
   "outputs": [
    {
     "name": "stdout",
     "output_type": "stream",
     "text": [
      "For Else block\n"
     ]
    }
   ],
   "source": [
    "for x in []:\n",
    "    print('Never runs')\n",
    "else:\n",
    "    print('For Else block')\n",
    "    "
   ]
  },
  {
   "cell_type": "code",
   "execution_count": 5,
   "metadata": {},
   "outputs": [
    {
     "name": "stdout",
     "output_type": "stream",
     "text": [
      "THE END\n"
     ]
    }
   ],
   "source": [
    "# else 블록은 while문이 처음부터 False인 경우에도 실행된다.\n",
    "while False:\n",
    "    print('NOTING TO DO')\n",
    "else:\n",
    "    print(\"THE END\")"
   ]
  },
  {
   "cell_type": "code",
   "execution_count": 9,
   "metadata": {},
   "outputs": [
    {
     "name": "stdout",
     "output_type": "stream",
     "text": [
      "TEST 2\n",
      "TEST 3\n",
      "TEST 4\n",
      "comprime\n"
     ]
    }
   ],
   "source": [
    "# 이 방법은 유용하게 쓰일 수도 있다.\n",
    "# 가령 서로소(최소공약수가 오직 1뿐인 두 자연수 관계)를 구하고 숫자를 테스트 해본다고 가정하자\n",
    "a = 4\n",
    "b = 9\n",
    "for i in range(2, min(a,b)+1):\n",
    "    print(\"TEST {}\".format(i))\n",
    "    if a % i ==0 and b % i == 0:\n",
    "        print(\"It is not comprime\")\n",
    "        break\n",
    "else:\n",
    "    print(\"comprime\")"
   ]
  },
  {
   "cell_type": "code",
   "execution_count": 10,
   "metadata": {},
   "outputs": [],
   "source": [
    "# 하지만 이런 방식으로 코드를 작성하는건 매우 좋지 않다.\n",
    "# 차라리 헬퍼함수를 만들어라\n",
    "def comprime(a,b):\n",
    "    for i in range(2, min(a,b)+1):\n",
    "        if a % i == 0 and b % i == 0:\n",
    "            return False\n",
    "        return True"
   ]
  },
  {
   "cell_type": "code",
   "execution_count": 11,
   "metadata": {},
   "outputs": [],
   "source": [
    "# 또 다른 방법은 변수를 통해 구현하는 방식이다.\n",
    "def comprime2(a,b):\n",
    "    is_comprime = True\n",
    "    for i in range(2, min(a,b)+1):\n",
    "        if a%i==0 and b%i==0:\n",
    "            is_comprime = False\n",
    "            break\n",
    "    return is_comprime"
   ]
  },
  {
   "cell_type": "code",
   "execution_count": 12,
   "metadata": {},
   "outputs": [],
   "source": [
    "# 이렇게 구현하면 훨씬 직관적일 뿐아니라 이해하기도 쉽다.\n",
    "# 괜히 반복문에 else를 추가하여 복잡하게 만들지 말자."
   ]
  },
  {
   "cell_type": "code",
   "execution_count": null,
   "metadata": {},
   "outputs": [],
   "source": []
  }
 ],
 "metadata": {
  "kernelspec": {
   "display_name": "Python 3",
   "language": "python",
   "name": "python3"
  },
  "language_info": {
   "codemirror_mode": {
    "name": "ipython",
    "version": 3
   },
   "file_extension": ".py",
   "mimetype": "text/x-python",
   "name": "python",
   "nbconvert_exporter": "python",
   "pygments_lexer": "ipython3",
   "version": "3.6.1"
  }
 },
 "nbformat": 4,
 "nbformat_minor": 2
}
