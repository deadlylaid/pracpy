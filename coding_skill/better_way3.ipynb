{
 "cells": [
  {
   "cell_type": "code",
   "execution_count": 5,
   "metadata": {},
   "outputs": [],
   "source": [
    "# bytes, str, unicode의 차이점\n",
    "\n",
    "# bytes 인스턴스 == 8bit 값을 저장한다\n",
    "# str 인스턴스 == 유니코드 문자열 저장\n",
    "\n",
    "# python3의 str 인스턴스는 연관된 바이너리 인코딩이 없음\n",
    "# 그래서 str => bytes 변환을 위해서는 encode 함수를 사용해야 함\n",
    "# 반대로 bytes => str 변환을 위해서는 decode 함수를 사용해야 함\n",
    "\n",
    "# 문자 타입이 분리되어 있기에 파이썬 코드에서는 2가지 상황에 직면함\n",
    "# 1. UTF-8(혹은 다른 인코딩)으로 인코드된 문자 raw 8bit 값을 처리해야하는 상황\n",
    "# 2. 인코딩이 없는 유니코드 문자를 처리해야하는 상황\n",
    "\n",
    "# 두 경우 사이에서 변환하고 코드에서 원하는 타입과 입력값의 타입이 정확히 일치하게 하려면 2개의 헬퍼함수가 필요함\n",
    "\n",
    "## str or bytes를 입력받고 str로 반환하는 함수\n",
    "def to_str(bytes_or_str):\n",
    "    if isinstance(bytes_or_str, bytes):\n",
    "        value = bytes_or_str.decode('utf-8')\n",
    "    else:\n",
    "        value = bytes_or_str\n",
    "    return value # str 인스턴스\n",
    "\n",
    "## str or bytes를 입력받고 bytes로 반환하는 함수\n",
    "def to_bytes(bytes_or_str):\n",
    "    if isinstance(bytes_or_str, str):\n",
    "        value = bytes_or_str.encode('utf-8')\n",
    "    else:\n",
    "        value = bytes_or_str\n",
    "    return value # bytes 인스턴스"
   ]
  },
  {
   "cell_type": "code",
   "execution_count": 8,
   "metadata": {},
   "outputs": [
    {
     "data": {
      "text/plain": [
       "str"
      ]
     },
     "execution_count": 8,
     "metadata": {},
     "output_type": "execute_result"
    }
   ],
   "source": [
    "type(to_str('Jade han'))"
   ]
  },
  {
   "cell_type": "code",
   "execution_count": 9,
   "metadata": {},
   "outputs": [
    {
     "data": {
      "text/plain": [
       "bytes"
      ]
     },
     "execution_count": 9,
     "metadata": {},
     "output_type": "execute_result"
    }
   ],
   "source": [
    "type(to_bytes('Jade han'))"
   ]
  },
  {
   "cell_type": "code",
   "execution_count": 12,
   "metadata": {},
   "outputs": [
    {
     "ename": "TypeError",
     "evalue": "write() argument must be str, not bytes",
     "output_type": "error",
     "traceback": [
      "\u001b[0;31m---------------------------------------------------------------------------\u001b[0m",
      "\u001b[0;31mTypeError\u001b[0m                                 Traceback (most recent call last)",
      "\u001b[0;32m<ipython-input-12-9dfe1cac1da3>\u001b[0m in \u001b[0;36m<module>\u001b[0;34m()\u001b[0m\n\u001b[1;32m      3\u001b[0m \u001b[0;31m# 파이썬 3에서 open 함수에 encoding 인수가 추가되었기 때문에 read, write 연산은 기본적으로 str 인스턴스를 요구한다\u001b[0m\u001b[0;34m\u001b[0m\u001b[0;34m\u001b[0m\u001b[0m\n\u001b[1;32m      4\u001b[0m \u001b[0;32mwith\u001b[0m \u001b[0mopen\u001b[0m\u001b[0;34m(\u001b[0m\u001b[0;34m'/tmp/bandom.bin'\u001b[0m\u001b[0;34m,\u001b[0m \u001b[0;34m'w'\u001b[0m\u001b[0;34m)\u001b[0m \u001b[0;32mas\u001b[0m \u001b[0mf\u001b[0m\u001b[0;34m:\u001b[0m\u001b[0;34m\u001b[0m\u001b[0m\n\u001b[0;32m----> 5\u001b[0;31m     \u001b[0mf\u001b[0m\u001b[0;34m.\u001b[0m\u001b[0mwrite\u001b[0m\u001b[0;34m(\u001b[0m\u001b[0mos\u001b[0m\u001b[0;34m.\u001b[0m\u001b[0murandom\u001b[0m\u001b[0;34m(\u001b[0m\u001b[0;36m10\u001b[0m\u001b[0;34m)\u001b[0m\u001b[0;34m)\u001b[0m\u001b[0;34m\u001b[0m\u001b[0m\n\u001b[0m",
      "\u001b[0;31mTypeError\u001b[0m: write() argument must be str, not bytes"
     ]
    }
   ],
   "source": [
    "import os\n",
    "# 파이썬 3에서 내장함수 open이 반환하는 파일 핸들을 사용하는 연산은 기본으로 UTF-8인코딩을 사용\n",
    "# 파이썬 3에서 open 함수에 encoding 인수가 추가되었기 때문에 read, write 연산은 기본적으로 str 인스턴스를 요구한다\n",
    "with open('/tmp/bandom.bin', 'w') as f:\n",
    "    f.write(os.urandom(10))"
   ]
  },
  {
   "cell_type": "code",
   "execution_count": 17,
   "metadata": {},
   "outputs": [],
   "source": [
    "# 이를 해결하기 위해서는 단순한 'w' 모드가 아니라 'wb'(write binary) 모드를 사용해야 한다.\n",
    "# 읽기 모드 'r' 도 마찬가지로 'rb' 모드를 사용해야 한다.\n",
    "with open('/tmp/ramdom.bin', 'wb') as f:\n",
    "    f.write(os.urandom(10))"
   ]
  },
  {
   "cell_type": "code",
   "execution_count": null,
   "metadata": {},
   "outputs": [],
   "source": []
  }
 ],
 "metadata": {
  "kernelspec": {
   "display_name": "Python 3",
   "language": "python",
   "name": "python3"
  },
  "language_info": {
   "codemirror_mode": {
    "name": "ipython",
    "version": 3
   },
   "file_extension": ".py",
   "mimetype": "text/x-python",
   "name": "python",
   "nbconvert_exporter": "python",
   "pygments_lexer": "ipython3",
   "version": "3.6.1"
  }
 },
 "nbformat": 4,
 "nbformat_minor": 2
}
