{
 "cells": [
  {
   "cell_type": "code",
   "execution_count": 2,
   "metadata": {},
   "outputs": [
    {
     "name": "stdout",
     "output_type": "stream",
     "text": [
      "[0, 5, 11, 15, 21, 27]\n"
     ]
    }
   ],
   "source": [
    "#\n",
    "# 리스트를 반환하지 말고 제너레이터를 고려하라\n",
    "#\n",
    "# 문자열에 있는 모든 단어의 인덱스를 출력하고 싶다고 하자\n",
    "def index_word(text):\n",
    "    result = []\n",
    "    if text:\n",
    "        result.append(0)\n",
    "    for index, letter in enumerate(text):\n",
    "        if letter == ' ':\n",
    "            result.append(index + 1)\n",
    "    return result\n",
    "\n",
    "address = 'Four score and seven years ago...'\n",
    "result = index_word(address)\n",
    "print(result)"
   ]
  },
  {
   "cell_type": "code",
   "execution_count": 4,
   "metadata": {},
   "outputs": [
    {
     "name": "stdout",
     "output_type": "stream",
     "text": [
      "[0, 5, 11, 15, 21, 27]\n"
     ]
    }
   ],
   "source": [
    "# 해당 함수는 2가지 문제가 있다.\n",
    "# 1. 함수가 깔끔하지 않음(괜히 리스트를 만들어냄, append메소드를 문자의 갯수만큼 호출함)\n",
    "# 2. 리스트를 통째로 반환하므로 메모리 낭비\n",
    "# 제너레이터가 이 문제를 해결해준다.\n",
    "def index_word_generager(text):\n",
    "    if text:\n",
    "        yield 0\n",
    "    for index, letter in enumerate(text):\n",
    "        if letter == ' ':\n",
    "            yield index + 1\n",
    "            \n",
    "print(list(index_word_generager(address)))"
   ]
  },
  {
   "cell_type": "code",
   "execution_count": null,
   "metadata": {},
   "outputs": [],
   "source": [
    "# 이처럼 제너레이터를 사용할 때에는 반환되는 이터레이터에 상태가 있고, 재사용이 불가능하다는 것을 호출쪽에서 알아야한다.\n"
   ]
  }
 ],
 "metadata": {
  "kernelspec": {
   "display_name": "Python 3",
   "language": "python",
   "name": "python3"
  },
  "language_info": {
   "codemirror_mode": {
    "name": "ipython",
    "version": 3
   },
   "file_extension": ".py",
   "mimetype": "text/x-python",
   "name": "python",
   "nbconvert_exporter": "python",
   "pygments_lexer": "ipython3",
   "version": "3.6.1"
  }
 },
 "nbformat": 4,
 "nbformat_minor": 2
}
