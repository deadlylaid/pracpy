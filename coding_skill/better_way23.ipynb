{
 "cells": [
  {
   "cell_type": "code",
   "execution_count": 1,
   "metadata": {},
   "outputs": [
    {
     "name": "stdout",
     "output_type": "stream",
     "text": [
      "['Plato', 'Socrates', 'Aristotle', 'Archimedes']\n"
     ]
    }
   ],
   "source": [
    "#\n",
    "# 인터페이스가 간단하면 클래스 대신 함수를 받자\n",
    "# \n",
    "\n",
    "# 파이썬 내장 api의 상당수에는 함수를 넘겨서 동작을 사용자화하는 기능이 있다.\n",
    "# api는 이런 후크를 이용해서 여러분이 작성한 코드를 실행 중에 호출한다.\n",
    "# 예를 들어 list 타입의 sort 메소드는 정렬에 필요한 각 인덱스 값을 결정하는 key 인수를 옵셔널하게 받는다.\n",
    "# 다음 코드에서는 lambda 표현식을 key 후크로 넘겨서 이름 리스트를 길이로 정렬한다.\n",
    "names = ['Socrates', 'Archimedes', 'Plato', 'Aristotle']\n",
    "names.sort(key=lambda x: len(x))\n",
    "print(names)"
   ]
  },
  {
   "cell_type": "code",
   "execution_count": 10,
   "metadata": {},
   "outputs": [
    {
     "name": "stdout",
     "output_type": "stream",
     "text": [
      "Before : {'green': 12, 'blue': 3}\n",
      "Key added\n",
      "Key added\n",
      "After:  {'green': 12, 'blue': 20, 'red': 5, 'orange': 9}\n"
     ]
    }
   ],
   "source": [
    "# 파이썬의 후크 중 상당수는 인수와 리턴 값이 잘 정의되어있는 함수다.\n",
    "# 함수는 클래스보다 설명하기 쉽고 정의하기도 간단해서 후크로 많이 쓰인다.\n",
    "# 함수가 후크로 동작하는 이유는 파이썬이 일급 함수를 갖췄기 때문이다.\n",
    "\n",
    "# 예를 들어 defaultdict 클래스의 동작을 사용자화 한다고 가정해보자\n",
    "# 이 자료구조는 찾을 수 없는 키에 접근할 때마다 호출될 함수를 받는다.\n",
    "# defaultdict 클래스에 인자로 넘기게될 함수는 딕셔너리에서 찾을 수 없는 대응할 수 없는 값을 반환해야한다.\n",
    "# 다음은 키를 찾을 수 없을 때마다 로그를 남기고 0을 반환하는 후크를 정의한 코드다\n",
    "def log_missing():\n",
    "    print('Key added')\n",
    "    return 0\n",
    "\n",
    "# 초기값은 딕셔너리와 원하는 증가 값 리스트로 log_missing 함수를 두번 실행하여 로그를 출력하게 해보자\n",
    "corrent = {'green':12, 'blue':3}\n",
    "increments = [\n",
    "    ('red',5),\n",
    "    ('blue',17),\n",
    "    ('orange',9),\n",
    "]\n",
    "from collections import defaultdict\n",
    "result = defaultdict(log_missing, corrent)\n",
    "print('Before :', dict(result))\n",
    "for key, amount in increments:\n",
    "    result[key] += amount\n",
    "print('After: ', dict(result))"
   ]
  },
  {
   "cell_type": "code",
   "execution_count": 13,
   "metadata": {},
   "outputs": [],
   "source": [
    "# log missing 같은 함수를 이용하면 결정 동작과 부작용을 분리하므로 api 설계에 매우 유리하다.\n",
    "# 기본값 후크를 defaultdict에 넘겨서 찾을 수 없는 키의 총 개수를 세어보자.\n",
    "def increment_with_report(current, increments):\n",
    "    added_count = 0\n",
    "    \n",
    "    def missing():\n",
    "        nonlocal added_count\n",
    "        added_count += 1\n",
    "        return 0\n",
    "    result = defaultdict(missing, current)\n",
    "    for key, amount in increments:\n",
    "        result[key] += amount\n",
    "    return result, added_count"
   ]
  },
  {
   "cell_type": "code",
   "execution_count": 24,
   "metadata": {},
   "outputs": [],
   "source": [
    "# defaultdict는 missing 후크가 상태를 유지하는 사실을 모르지만, increment_with_report 함수를 실행하면,\n",
    "# 튜플의 요소로 기대한 개수인 2를 얻는다.\n",
    "corrent = {'green':12, 'blue':3}\n",
    "result, count = increment_with_report(corrent, increments)\n",
    "assert count == 2"
   ]
  },
  {
   "cell_type": "code",
   "execution_count": 21,
   "metadata": {},
   "outputs": [],
   "source": [
    "# 상태 보존 후크용으로 클로저를 정의할 때 생기는 문제는 상태가 없는 함수의 예제부다 이해하기 어렵다는 것\n",
    "# 또 다른 방법은 보존할 상태를 캡슐화하는 작은 클래스를 정의하는 것이다.\n",
    "class CountMissing:\n",
    "    def __init__(self):\n",
    "        self.added = 0\n",
    "    def missing(self):\n",
    "        self.added += 1\n",
    "        return 0\n",
    "# CountMissing.missing 메소드를 참조해서 defaultdict의 기본값 후크로 넘길 수 있다."
   ]
  },
  {
   "cell_type": "code",
   "execution_count": 27,
   "metadata": {},
   "outputs": [],
   "source": [
    "counter = CountMissing()\n",
    "corrent = {'green':12, 'blue':3}\n",
    "\n",
    "result = defaultdict(counter.missing, corrent)\n",
    "for key, amount in increaments:\n",
    "    result[key] += amount\n",
    "assert counter.added == 2"
   ]
  },
  {
   "cell_type": "code",
   "execution_count": 28,
   "metadata": {},
   "outputs": [],
   "source": [
    "# 더 좋은 방법은 __call__함수를 이용하는 것이다.\n",
    "# __call__은 객체를 함수처럼 호출할 수 있게 해준다.\n",
    "class BetterCountMissing:\n",
    "    def __init__(self):\n",
    "        self.added = 0\n",
    "    def __call__(self):\n",
    "        self.added += 1\n",
    "        return 0\n",
    "counter = BetterCountMissing()\n",
    "counter()\n",
    "assert callable(counter)"
   ]
  },
  {
   "cell_type": "code",
   "execution_count": 32,
   "metadata": {},
   "outputs": [],
   "source": [
    "counter = BetterCountMissing()\n",
    "corrent = {'green':12, 'blue':3}\n",
    "result = defaultdict(counter, corrent)\n",
    "for key, amount in increaments:\n",
    "    result[key] += amount\n",
    "assert counter.added == 2"
   ]
  },
  {
   "cell_type": "code",
   "execution_count": null,
   "metadata": {},
   "outputs": [],
   "source": []
  }
 ],
 "metadata": {
  "kernelspec": {
   "display_name": "Python 3",
   "language": "python",
   "name": "python3"
  },
  "language_info": {
   "codemirror_mode": {
    "name": "ipython",
    "version": 3
   },
   "file_extension": ".py",
   "mimetype": "text/x-python",
   "name": "python",
   "nbconvert_exporter": "python",
   "pygments_lexer": "ipython3",
   "version": "3.6.1"
  }
 },
 "nbformat": 4,
 "nbformat_minor": 2
}
