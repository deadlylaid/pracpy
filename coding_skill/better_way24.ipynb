{
 "cells": [
  {
   "cell_type": "code",
   "execution_count": 1,
   "metadata": {},
   "outputs": [],
   "source": [
    "#\n",
    "# 객체를 범용으로 생성하려면 @classmethod 다향성을 이용할 것\n",
    "#\n",
    "\n",
    "# 파이썬에서는 객체가 다형성을 지원한다.\n",
    "# 클래스도 다형성을 지원한다.\n",
    "# 다형성은 계층 구조에 속한 여러 클래스가 자체의 메서드를 독립적인 버전으로 구현하는 방식이다.\n",
    "  # => 특정 클래스를 상속받아서 그 클래스에 구현되어있는 함수를 오버라이드해서 이용하는 것이다.\n",
    "# 다형성을 이용하면 여러 클래스가 같은 인터페이스나 추상 클래스(ABCclass)를 사용하면서도 다른 기능을 제공할 수 있다.\n"
   ]
  },
  {
   "cell_type": "code",
   "execution_count": 2,
   "metadata": {},
   "outputs": [],
   "source": [
    "# 맵리듀스 구현을 작성할 때 입력 데이터를 표현할 공통 클래스가 필요하다고 하자.\n",
    "# 다음은 서브클래스에서 정의해야 하는 read메서드가 있는 입력 데이터 클래스다.\n",
    "class InputData:\n",
    "    def read(self):\n",
    "        raise NotImplementedError"
   ]
  },
  {
   "cell_type": "code",
   "execution_count": 3,
   "metadata": {},
   "outputs": [],
   "source": [
    "# 다음은 디스크에 있는 파일에서 데이터를 읽어오도록 구현한 InputData의 서브클래스이다.\n",
    "class PathInputData(InputData):\n",
    "    def __init__(self, path):\n",
    "        super().__init__()\n",
    "        self.path = path\n",
    "        \n",
    "    def read(self):\n",
    "        return open(self.path).read()"
   ]
  },
  {
   "cell_type": "code",
   "execution_count": 4,
   "metadata": {},
   "outputs": [],
   "source": [
    "# PathInputData 같은 InputData의 서브클래스는 몇 개든 있을 수 있다.\n",
    "# 각 서브 클래스에서는 처리할 바이트 데이터를 반환하는 표준 인터페이스인 read를 구현할 것이다.\n",
    "# 다른 InputData 서브클래스는 네트워크에서 데이터를 읽어오거나 데이터의 압축을 해제하는 기능등을 할 수 있다.\n",
    "class Worker:\n",
    "    def __init__(self, input_data):\n",
    "        self.input_data = input_data\n",
    "        self.result = None\n",
    "        \n",
    "    def map(self):\n",
    "        raise NotImplementedError\n",
    "        \n",
    "    def reduce(self, other):\n",
    "        raise NotImplementedError"
   ]
  },
  {
   "cell_type": "code",
   "execution_count": 5,
   "metadata": {},
   "outputs": [],
   "source": [
    "# 다음은 적용하려는 특정 맵리듀스 함수를 구현한 Worker의 구체 서브클래스다\n",
    "class LineCountWorker(Worker):\n",
    "    def map(self):\n",
    "        data = self.input_data.read()\n",
    "        self.result = data.count('\\n')\n",
    "        \n",
    "    def reduce(self, other):\n",
    "        self.result += other.result"
   ]
  },
  {
   "cell_type": "code",
   "execution_count": 6,
   "metadata": {},
   "outputs": [],
   "source": [
    "# 잘 작동할 것처럼 보이지만 엄청난 문제에 직면한다.\n",
    "# 이 모든 코드 조각을 무엇으로 연결해야 한단 말인가?\n",
    "# 적절히 추상화한 클래스들이지만 일단 객체를 생성한 후에나 유용한 것들이다.\n",
    "# 무엇으로 객체를 만들고 맵리듀스를 조율할까?\n",
    "\n",
    "# 헬퍼 함수로 직접 객체를 만들고 연결하는 방법이 있다.\n",
    "def generate_inputs(data_dir):\n",
    "    for name in os.listdir(data_dir):\n",
    "        yield PathInputData(os.path.join(data_dir, name))"
   ]
  },
  {
   "cell_type": "code",
   "execution_count": 7,
   "metadata": {},
   "outputs": [],
   "source": [
    "# 그 후, generate_inputs에서 리턴 된 InputData 객체를 사용하는\n",
    "# LineCountWorker 객체를 생성한다.\n",
    "def create_workers(input_list):\n",
    "    workers = []\n",
    "    for input_data in input_list:\n",
    "        workers.append(LineCountWorker(input_data))\n",
    "    return workers"
   ]
  },
  {
   "cell_type": "code",
   "execution_count": 8,
   "metadata": {},
   "outputs": [],
   "source": [
    "# map 단계를 여러 스레드로 나눠서 이 Worker 인스턴스들을 실행한다.\n",
    "# 그런 다음 reduce를 반복적으로 호출해서 결과를 최종값 하나로 합친다.\n",
    "def execute(workers):\n",
    "    threads = [Thread(target=w.map) for w in workers]\n",
    "    for thread in threads: thread.start()\n",
    "    for thread in threads: thread.join()\n",
    "        \n",
    "    first, rest = workers[0], workers[1:]\n",
    "    for worker in rest:\n",
    "        first.reduce(worker)\n",
    "    return first.result"
   ]
  },
  {
   "cell_type": "code",
   "execution_count": 9,
   "metadata": {},
   "outputs": [],
   "source": [
    "# 마지막으로 단계별로 실행하려고 mapreduce 함수에서 모든 조각을 연결한다.\n",
    "def mapreduce(data_dir):\n",
    "    inputs = generate_inputs(data_dir)\n",
    "    workers = create_workers(inputs)\n",
    "    return execute(workers)"
   ]
  },
  {
   "cell_type": "code",
   "execution_count": null,
   "metadata": {},
   "outputs": [],
   "source": []
  }
 ],
 "metadata": {
  "kernelspec": {
   "display_name": "Python 3",
   "language": "python",
   "name": "python3"
  },
  "language_info": {
   "codemirror_mode": {
    "name": "ipython",
    "version": 3
   },
   "file_extension": ".py",
   "mimetype": "text/x-python",
   "name": "python",
   "nbconvert_exporter": "python",
   "pygments_lexer": "ipython3",
   "version": "3.6.1"
  }
 },
 "nbformat": 4,
 "nbformat_minor": 2
}
