{
 "cells": [
  {
   "cell_type": "code",
   "execution_count": 1,
   "metadata": {},
   "outputs": [
    {
     "name": "stdout",
     "output_type": "stream",
     "text": [
      "[11.538461538461538, 26.923076923076923, 61.53846153846154]\n"
     ]
    }
   ],
   "source": [
    "#\n",
    "# 인수를 순회할 때는 방어적으로 하자\n",
    "#\n",
    "# 파라미터로 객체의 리스트를 여러 번 순회해야할 때가 있다.\n",
    "# 예를 들어 미국 텍사스주의 여행자 수를 분석하고 싶다고 해보자.\n",
    "# 데이터 집합은 각 도시의 방문자 수(연도별 백만 명 단위)라고 하자.\n",
    "# 각 도시에서 전체 여행자 중 몇 퍼센트를 받아들이는지 알고 싶을 것이다.\n",
    "\n",
    "# 이런 작업을 하려면 정규화 함수가 필요하다. 정규화 함수에서는 입력을 합산해서 연도별 총 여행자 수를 구한다.\n",
    "# 각 도시의 방문자 수를 전체 방문자 수로 나누어 각 도시가 전체에서 차지하는 비중을 알아낸다.\n",
    "def normalize(numbers):\n",
    "    total = sum(numbers)\n",
    "    result = []\n",
    "    for value in numbers:\n",
    "        percent = 100 * value / total\n",
    "        result.append(percent)\n",
    "    return result\n",
    "\n",
    "visits = [15, 35, 80]\n",
    "percentage = normalize(visits)\n",
    "print(percentage)"
   ]
  },
  {
   "cell_type": "code",
   "execution_count": 2,
   "metadata": {},
   "outputs": [],
   "source": [
    "# 방문 리스트를 확대하려면, 텍사스 주의 모든 도시가 들어있는 파일에서 데이터를 읽을 수 있어야한다.\n",
    "# 이 작업을 수행하는 제너레이터를 정의할텐데, 그러면 나중에 같은 함수를 재사용하여 더 큰 데이터 세트인 \"전 세계 여행자 수\"를 계산할 수 있기 때문이다.\n",
    "def read_visit(data_path):\n",
    "    with open(data_path) as f:\n",
    "        for line in f:\n",
    "            yield int(line)"
   ]
  },
  {
   "cell_type": "code",
   "execution_count": 3,
   "metadata": {},
   "outputs": [
    {
     "name": "stdout",
     "output_type": "stream",
     "text": [
      "[]\n"
     ]
    }
   ],
   "source": [
    "# 하지만 이 상태에서 함수를 실행해봐야 아무것도 나오지 않는다.\n",
    "it = read_visit('my_numbers.txt')\n",
    "percentage2 = normalize(it)\n",
    "print(percentage2)"
   ]
  },
  {
   "cell_type": "code",
   "execution_count": 4,
   "metadata": {},
   "outputs": [
    {
     "name": "stdout",
     "output_type": "stream",
     "text": [
      "[15, 22, 30]\n",
      "[]\n"
     ]
    }
   ],
   "source": [
    "# 그 이유인 즉슨, 이터레이터는 결과를 딱 한번만 생성한다.\n",
    "# 이미 'StopIteration'예외를 일으킨 이터레이터나 제너레이터를 순회하면, 어떤 결과도 얻을 수 없다.\n",
    "it = read_visit('my_numbers.txt')\n",
    "print(list(it))\n",
    "print(list(it)) # 이미 위에서 결과를 한번 생성했기 때문에 2번 째에는 빈값이 리턴된다."
   ]
  },
  {
   "cell_type": "code",
   "execution_count": 5,
   "metadata": {},
   "outputs": [
    {
     "name": "stdout",
     "output_type": "stream",
     "text": [
      "[22.388059701492537, 32.83582089552239, 44.776119402985074]\n"
     ]
    }
   ],
   "source": [
    "# 이미 한번 함수가 호출이 되서 2번째부터는 빈값이 나오더라도, 결코 에러는 나지 않는다. 그래서 더 헷깔릴 수 있다.\n",
    "# 이러한 문제를 해결하려면, 입력 이터레이터를 명시적으로 소진한 후에, 전체 콘텐츠의 복사본을 리스트에 저장해야한다.\n",
    "# 그러면 리스트 버전의 데이터를 필요한 만큼 순회할 수 있다.\n",
    "def normalize_copy(numbers):\n",
    "    numbers = list(numbers)\n",
    "    total = sum(numbers)\n",
    "    result = []\n",
    "    for value in numbers:\n",
    "        percent = 100*value/total\n",
    "        result.append(percent)\n",
    "    return result\n",
    "\n",
    "it = read_visit('my_numbers.txt')\n",
    "percentages = normalize_copy(it)\n",
    "print(percentages)"
   ]
  },
  {
   "cell_type": "code",
   "execution_count": 6,
   "metadata": {},
   "outputs": [],
   "source": [
    "# 하지만 이 방법을 사용하면 굳이 이터레이터를 사용하는 의미가 없다.\n",
    "# 이 문제점을 피하는 방법은 호출될 때마다 새 이터레이터를 반환하는 함수를 받게 만드는 것이다.\n",
    "def normalize_func(get_iter):\n",
    "    total = sum(get_iter())\n",
    "    result = []\n",
    "    for value in get_iter():\n",
    "        percent = 100 * value / total\n",
    "        result.append(percent)\n",
    "    return result"
   ]
  },
  {
   "cell_type": "code",
   "execution_count": 10,
   "metadata": {},
   "outputs": [
    {
     "name": "stdout",
     "output_type": "stream",
     "text": [
      "[22.388059701492537, 32.83582089552239, 44.776119402985074]\n"
     ]
    }
   ],
   "source": [
    "# normalize_func을 사용하려면 제너레이터를 호출해서 매번 새 이터레이터를 생성하는 람다 표현식을 넘겨주면 된다.\n",
    "percentages3 = normalize_func(lambda: read_visit('my_numbers.txt'))\n",
    "print(percentages3)"
   ]
  },
  {
   "cell_type": "code",
   "execution_count": 23,
   "metadata": {},
   "outputs": [
    {
     "name": "stdout",
     "output_type": "stream",
     "text": [
      "<__main__.ReadVisits object at 0x10a8a17f0>\n",
      "[22.388059701492537, 32.83582089552239, 44.776119402985074]\n"
     ]
    }
   ],
   "source": [
    "# 정삭적으로 작동하긴 하지만, 람다 함수를 넘겨주는 방법은 별로 좋지 않다.\n",
    "# 더 좋은 방법은 이터레이터 프로토콜을 구현한 새 컨테이너 클래스를 제공하는 것이다.\n",
    "# 이터레이터 프로토콜은 파이썬의 for 루프와 관련 표현식이 컨테이너 타입의 콘텐츠를 탐색하는 방법을 나타낸다.(뭔 개소리냐...)\n",
    "\n",
    "# 1. for x in foo 와 같은 구문은 실제로 iter(foo)를 호출한다.\n",
    "# 2. 내장함수 iter는 매직 메소드인 foo.__iter__를 호출한다.\n",
    "# 3. __iter__ 메소드는 이터레이터 객체를 리턴해야한다. (next 함수를 쓸 수 있다면 이터레이터라 볼 수 있다.)\n",
    "# 4. for 루프는 이터레이터를 모두 소진할 때 까지 next 함수를 호출한다.\n",
    "\n",
    "# 존나 복잡하지만 우리도 __iter__만 좀 쓸줄 알면 존나 간지나는 클래스를 뽑아낼 수 있다.\n",
    "class ReadVisits:\n",
    "    def __init__(self, data_path):\n",
    "        self.data_path = data_path\n",
    "        \n",
    "    def __iter__(self):\n",
    "        with open(self.data_path) as f:\n",
    "            for line in f:\n",
    "                yield int(line)\n",
    "\n",
    "visits = ReadVisits('my_numbers.txt')\n",
    "print(visits)\n",
    "percent = normalize(visits)\n",
    "print(percent)"
   ]
  },
  {
   "cell_type": "code",
   "execution_count": null,
   "metadata": {},
   "outputs": [],
   "source": []
  }
 ],
 "metadata": {
  "kernelspec": {
   "display_name": "Python 3",
   "language": "python",
   "name": "python3"
  },
  "language_info": {
   "codemirror_mode": {
    "name": "ipython",
    "version": 3
   },
   "file_extension": ".py",
   "mimetype": "text/x-python",
   "name": "python",
   "nbconvert_exporter": "python",
   "pygments_lexer": "ipython3",
   "version": "3.6.1"
  }
 },
 "nbformat": 4,
 "nbformat_minor": 2
}
