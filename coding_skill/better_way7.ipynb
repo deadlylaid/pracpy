{
 "cells": [
  {
   "cell_type": "code",
   "execution_count": 2,
   "metadata": {},
   "outputs": [
    {
     "name": "stdout",
     "output_type": "stream",
     "text": [
      "[1, 4, 9, 16, 25, 36, 49, 64, 81, 100]\n"
     ]
    }
   ],
   "source": [
    "# 파이썬에는 한 리스트에서 다른 리스트를 만드는 간결한 문법이 있다.\n",
    "# 이것을 리스트 컴프리헨션이라고 한다.\n",
    "a = [ x**2 for x in range(1, 11)]\n",
    "print(a)"
   ]
  },
  {
   "cell_type": "code",
   "execution_count": 5,
   "metadata": {},
   "outputs": [
    {
     "name": "stdout",
     "output_type": "stream",
     "text": [
      "[1, 4, 9, 16, 25, 36, 49, 64, 81, 100]\n"
     ]
    }
   ],
   "source": [
    "# 인수가 하나뿐인 함수를 적용하는 상황이 아니라면, list comprehension이 map보다 명확하다.\n",
    "# map을 쓰려면 계산에 필요한 lambda가 필수적이다.\n",
    "square = map(lambda x:x**2, range(1,11))\n",
    "print(list(square))"
   ]
  },
  {
   "cell_type": "code",
   "execution_count": 7,
   "metadata": {},
   "outputs": [
    {
     "name": "stdout",
     "output_type": "stream",
     "text": [
      "[4, 16, 36, 64, 100]\n"
     ]
    }
   ],
   "source": [
    "# map과 달리 list comprehension은 필요한 값만 걸러서 연산을 실행할 수 있다.\n",
    "a = [ x**2 for x in range(1, 11) if x%2==0]\n",
    "print(a)"
   ]
  },
  {
   "cell_type": "code",
   "execution_count": 8,
   "metadata": {},
   "outputs": [
    {
     "name": "stdout",
     "output_type": "stream",
     "text": [
      "[4, 16, 36, 64, 100]\n"
     ]
    }
   ],
   "source": [
    "# 물론 map으로도 같은 결과를 출력할 수 있다. 하지만 훨씬 가독성이 떨어진다.\n",
    "a = map(lambda x:x**2, filter(lambda x: x%2==0, range(1,11)))\n",
    "print(list(a))"
   ]
  },
  {
   "cell_type": "code",
   "execution_count": 15,
   "metadata": {},
   "outputs": [
    {
     "name": "stdout",
     "output_type": "stream",
     "text": [
      "{'man1': 'minsoo', 'man2': 'jisoo', 'man3': 'julsoo'}\n"
     ]
    }
   ],
   "source": [
    "# 뿐만 아니라 list comprehension은 딕셔너리와 셋도 지원한다.\n",
    "mans = {'man1':'minsoo', 'man2':'jisoo', 'man3':'julsoo'}\n",
    "dic_comprehension = { rank: name for rank, name in mans.items() }\n",
    "print(dic_comprehension)"
   ]
  },
  {
   "cell_type": "code",
   "execution_count": 16,
   "metadata": {},
   "outputs": [
    {
     "name": "stdout",
     "output_type": "stream",
     "text": [
      "{5, 6}\n"
     ]
    }
   ],
   "source": [
    "set_comprehension = { len(name) for name in mans.values() }\n",
    "print(set_comprehension)"
   ]
  },
  {
   "cell_type": "code",
   "execution_count": null,
   "metadata": {},
   "outputs": [],
   "source": []
  }
 ],
 "metadata": {
  "kernelspec": {
   "display_name": "Python 3",
   "language": "python",
   "name": "python3"
  },
  "language_info": {
   "codemirror_mode": {
    "name": "ipython",
    "version": 3
   },
   "file_extension": ".py",
   "mimetype": "text/x-python",
   "name": "python",
   "nbconvert_exporter": "python",
   "pygments_lexer": "ipython3",
   "version": "3.6.1"
  }
 },
 "nbformat": 4,
 "nbformat_minor": 2
}
