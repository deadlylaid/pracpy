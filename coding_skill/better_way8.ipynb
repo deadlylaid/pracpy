{
 "cells": [
  {
   "cell_type": "code",
   "execution_count": 14,
   "metadata": {},
   "outputs": [
    {
     "name": "stdout",
     "output_type": "stream",
     "text": [
      "[1, 2, 3, 4, 5, 6, 7, 8, 9]\n"
     ]
    }
   ],
   "source": [
    "# 리스트 컴프리헨션을 이용하는데 2개 이상의 표현식을 쓰는 것을 자제하자\n",
    "# 리스트 컴프리헨션은 다중 루프도 지원한다.\n",
    "# 예를 들어 2차원 리스트를 1차원 리스트로 만든다고 가정해보자\n",
    "matrix = [[1,2,3],[4,5,6],[7,8,9]]\n",
    "flat = [ x for row in matrix for x in row ]\n",
    "print(flat)"
   ]
  },
  {
   "cell_type": "code",
   "execution_count": 3,
   "metadata": {},
   "outputs": [
    {
     "name": "stdout",
     "output_type": "stream",
     "text": [
      "[[1, 4, 9], [16, 25, 36], [49, 64, 81]]\n"
     ]
    }
   ],
   "source": [
    "# 다중 루프의 또 다른 합다한 입력 방법은 레이아웃을 두 레벨로 중복해서 구성하는 것이다.\n",
    "# 예를 들어 2차원 행렬의 각 셀에있는 값의 제곱을 구한다고 해보자\n",
    "squard = [[x**2 for x in row] for row in matrix]\n",
    "print(squard)"
   ]
  },
  {
   "cell_type": "code",
   "execution_count": 5,
   "metadata": {},
   "outputs": [],
   "source": [
    "# 이 표현식을 다른 루프에 넣는다면 훨씬 어려워진다.\n",
    "my_list = [\n",
    "    [[1,2,3],[4,5,6]]\n",
    "]"
   ]
  },
  {
   "cell_type": "code",
   "execution_count": 7,
   "metadata": {},
   "outputs": [],
   "source": [
    "flat = [x for sublist1 in my_list\n",
    "           for sublist2 in sublist1\n",
    "           for x in sublist2]"
   ]
  },
  {
   "cell_type": "code",
   "execution_count": 8,
   "metadata": {},
   "outputs": [
    {
     "name": "stdout",
     "output_type": "stream",
     "text": [
      "[1, 2, 3, 4, 5, 6]\n"
     ]
    }
   ],
   "source": [
    "print(flat)"
   ]
  },
  {
   "cell_type": "code",
   "execution_count": 13,
   "metadata": {},
   "outputs": [],
   "source": [
    "# 이정도 되면 리스트 컴프리헨션이 다른 루프 표현식보다 짧다고 보기 힘들다\n",
    "# 같은 방식의 루프문을 보자\n",
    "flat = []\n",
    "for sublist1 in my_list:\n",
    "    for sublist2 in sublist1:\n",
    "        flat.append(sublist2)"
   ]
  },
  {
   "cell_type": "code",
   "execution_count": 12,
   "metadata": {},
   "outputs": [
    {
     "name": "stdout",
     "output_type": "stream",
     "text": [
      "[1, 2, 3, 4, 5, 6]\n"
     ]
    }
   ],
   "source": [
    "print(flat)"
   ]
  },
  {
   "cell_type": "code",
   "execution_count": 15,
   "metadata": {},
   "outputs": [
    {
     "name": "stdout",
     "output_type": "stream",
     "text": [
      "[1, 2, 3, 4, 5, 6, 7, 8, 9, 10]\n",
      "[6, 8, 10]\n",
      "[6, 8, 10]\n"
     ]
    }
   ],
   "source": [
    "# 다중 조건문도 사용이 가능하다\n",
    "a = [1,2,3,4,5,6,7,8,9,10]\n",
    "b = [x for x in a if x > 4 if x % 2 == 0]\n",
    "c = [x for x in a if x > 4 and x % 2 == 0]\n",
    "print(a)\n",
    "print(b)\n",
    "print(c)"
   ]
  },
  {
   "cell_type": "code",
   "execution_count": null,
   "metadata": {},
   "outputs": [],
   "source": [
    "#하지만 이런 복잡한 표현식은 자제하기 바란다."
   ]
  }
 ],
 "metadata": {
  "kernelspec": {
   "display_name": "Python 3",
   "language": "python",
   "name": "python3"
  },
  "language_info": {
   "codemirror_mode": {
    "name": "ipython",
    "version": 3
   },
   "file_extension": ".py",
   "mimetype": "text/x-python",
   "name": "python",
   "nbconvert_exporter": "python",
   "pygments_lexer": "ipython3",
   "version": "3.6.1"
  }
 },
 "nbformat": 4,
 "nbformat_minor": 2
}
